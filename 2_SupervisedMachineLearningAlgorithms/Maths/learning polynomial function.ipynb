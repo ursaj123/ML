{
 "cells": [
  {
   "cell_type": "code",
   "execution_count": 1,
   "metadata": {
    "executionInfo": {
     "elapsed": 469,
     "status": "ok",
     "timestamp": 1631364706094,
     "user": {
      "displayName": "Ayush Jangid",
      "photoUrl": "https://lh3.googleusercontent.com/a/default-user=s64",
      "userId": "03487561487798553053"
     },
     "user_tz": -330
    },
    "id": "ud6o97fO1Wjx"
   },
   "outputs": [],
   "source": [
    "import numpy as np\n",
    "from numpy import random\n",
    "import matplotlib.pyplot as plt"
   ]
  },
  {
   "cell_type": "code",
   "execution_count": 2,
   "metadata": {
    "executionInfo": {
     "elapsed": 20,
     "status": "ok",
     "timestamp": 1631364706655,
     "user": {
      "displayName": "Ayush Jangid",
      "photoUrl": "https://lh3.googleusercontent.com/a/default-user=s64",
      "userId": "03487561487798553053"
     },
     "user_tz": -330
    },
    "id": "7LhqQtR4lUEb"
   },
   "outputs": [],
   "source": [
    "def f(x):\n",
    "  return x**3 + x**2 + x + 1"
   ]
  },
  {
   "cell_type": "code",
   "execution_count": 3,
   "metadata": {
    "colab": {
     "base_uri": "https://localhost:8080/"
    },
    "executionInfo": {
     "elapsed": 19,
     "status": "ok",
     "timestamp": 1631364706655,
     "user": {
      "displayName": "Ayush Jangid",
      "photoUrl": "https://lh3.googleusercontent.com/a/default-user=s64",
      "userId": "03487561487798553053"
     },
     "user_tz": -330
    },
    "id": "ujT1RWNa1c9R",
    "outputId": "ad1c129b-d7a2-446d-ecfc-1bef61aab656"
   },
   "outputs": [
    {
     "data": {
      "text/plain": [
       "(10,)"
      ]
     },
     "execution_count": 3,
     "metadata": {},
     "output_type": "execute_result"
    }
   ],
   "source": [
    "# my model's resctriction is that you can't evaluate for much larger polynomials\n",
    "a = np.arange(10)\n",
    "b= np.array(f(a))\n",
    "a.shape"
   ]
  },
  {
   "cell_type": "code",
   "execution_count": 4,
   "metadata": {
    "colab": {
     "base_uri": "https://localhost:8080/",
     "height": 283
    },
    "executionInfo": {
     "elapsed": 22,
     "status": "ok",
     "timestamp": 1631364706662,
     "user": {
      "displayName": "Ayush Jangid",
      "photoUrl": "https://lh3.googleusercontent.com/a/default-user=s64",
      "userId": "03487561487798553053"
     },
     "user_tz": -330
    },
    "id": "MUrAkO4U11V0",
    "outputId": "f54bc53e-7853-466c-95e0-8947655d2af9"
   },
   "outputs": [
    {
     "data": {
      "text/plain": [
       "<matplotlib.collections.PathCollection at 0x1e4e0bfce50>"
      ]
     },
     "execution_count": 4,
     "metadata": {},
     "output_type": "execute_result"
    },
    {
     "data": {
      "image/png": "[encoded data removed]",
      "text/plain": [
       "<Figure size 432x288 with 1 Axes>"
      ]
     },
     "metadata": {
      "needs_background": "light"
     },
     "output_type": "display_data"
    }
   ],
   "source": [
    "plt.scatter(a,b)"
   ]
  },
  {
   "cell_type": "code",
   "execution_count": 5,
   "metadata": {
    "executionInfo": {
     "elapsed": 19,
     "status": "ok",
     "timestamp": 1631364706663,
     "user": {
      "displayName": "Ayush Jangid",
      "photoUrl": "https://lh3.googleusercontent.com/a/default-user=s64",
      "userId": "03487561487798553053"
     },
     "user_tz": -330
    },
    "id": "RJ35hol4_p_3"
   },
   "outputs": [],
   "source": [
    "def compute_cost(y_train,y_pred):\n",
    "  m = y_train.shape[0]\n",
    "  cost = (0.5/m)*np.sum(np.square(y_train.reshape(m,1) - y_pred.reshape(m,1)))\n",
    "  return cost"
   ]
  },
  {
   "cell_type": "code",
   "execution_count": 6,
   "metadata": {
    "executionInfo": {
     "elapsed": 19,
     "status": "ok",
     "timestamp": 1631364706664,
     "user": {
      "displayName": "Ayush Jangid",
      "photoUrl": "https://lh3.googleusercontent.com/a/default-user=s64",
      "userId": "03487561487798553053"
     },
     "user_tz": -330
    },
    "id": "BcO6Iw_fB_1P"
   },
   "outputs": [],
   "source": [
    "def grads(X_train, y_train, W):\n",
    "  grad = []\n",
    "  m = y_train.shape[0]\n",
    "  order = X_train.shape[0]\n",
    "  for i in range(0,X_train.shape[0]):\n",
    "    grad.append((-1/m)*(np.sum((y_train - W.T@X_train)*X_train[i,:])))\n",
    "  return grad"
   ]
  },
  {
   "cell_type": "code",
   "execution_count": 7,
   "metadata": {
    "executionInfo": {
     "elapsed": 398,
     "status": "ok",
     "timestamp": 1631364707043,
     "user": {
      "displayName": "Ayush Jangid",
      "photoUrl": "https://lh3.googleusercontent.com/a/default-user=s64",
      "userId": "03487561487798553053"
     },
     "user_tz": -330
    },
    "id": "2LpxlQTCkY-g"
   },
   "outputs": [],
   "source": [
    "def update(learning_rate,W, grad):\n",
    "  for i in range(0,len(grad)):\n",
    "    W[i] = W[i] - learning_rate*grad[i]\n",
    "  return W    "
   ]
  },
  {
   "cell_type": "code",
   "execution_count": 8,
   "metadata": {
    "executionInfo": {
     "elapsed": 6,
     "status": "ok",
     "timestamp": 1631364707044,
     "user": {
      "displayName": "Ayush Jangid",
      "photoUrl": "https://lh3.googleusercontent.com/a/default-user=s64",
      "userId": "03487561487798553053"
     },
     "user_tz": -330
    },
    "id": "Njlxwgej63LP"
   },
   "outputs": [],
   "source": [
    "def approx(x,W):\n",
    "  s = 0\n",
    "  for i in range(0,X_train.shape[0]):\n",
    "    s = s + W[i]*(x**i)/(10**i)\n",
    "  return s      "
   ]
  },
  {
   "cell_type": "code",
   "execution_count": 9,
   "metadata": {
    "colab": {
     "base_uri": "https://localhost:8080/",
     "height": 525
    },
    "executionInfo": {
     "elapsed": 139506,
     "status": "ok",
     "timestamp": 1631365355276,
     "user": {
      "displayName": "Ayush Jangid",
      "photoUrl": "https://lh3.googleusercontent.com/a/default-user=s64",
      "userId": "03487561487798553053"
     },
     "user_tz": -330
    },
    "id": "od7NvHZd8h1r",
    "outputId": "e7eefe91-7bd1-496a-d28e-03a5c16a39ee"
   },
   "outputs": [
    {
     "name": "stdout",
     "output_type": "stream",
     "text": [
      "W =  [[-147.8]\n",
      " [ 854. ]]\n",
      "Cost for order  1  approximation =  5705.039999999998\n",
      "W =  [[  26.2]\n",
      " [-451. ]\n",
      " [1450. ]]\n",
      "Cost for order  2  approximation =  154.43999999999951\n",
      "W =  [[  1.00278491]\n",
      " [  9.95368653]\n",
      " [100.13013825]\n",
      " [999.90601   ]]\n",
      "Cost for order  3  approximation =  1.3923929594833343e-06\n",
      "Function which will almost fit the given points will be :[1.00278491] x** 0  + [0.99536865] x** 1  + [1.00130138] x** 2  + [0.99990601] x** 3\n",
      "Function which will almost fit the given points will be :[1.00278491] x** 0  + [0.99536865] x** 1  + [1.00130138] x** 2  + [0.99990601] x** 3\n"
     ]
    },
    {
     "data": {
      "text/plain": [
       "[<matplotlib.lines.Line2D at 0x1e4e0cbce50>]"
      ]
     },
     "execution_count": 9,
     "metadata": {},
     "output_type": "execute_result"
    },
    {
     "data": {
      "image/png": "[encoded data removed]",
      "text/plain": [
       "<Figure size 432x288 with 1 Axes>"
      ]
     },
     "metadata": {
      "needs_background": "light"
     },
     "output_type": "display_data"
    }
   ],
   "source": [
    "# trying different order approximations\n",
    "orders = np.arange(1,a.shape[0]+1)\n",
    "for approx_order in orders:\n",
    "  # constructing dataset for different order approximation(I have done normalization also otherwise gradients will become big and ultimately the algorithm will diverge)\n",
    "  X_train = np.concatenate((np.ones((a.shape[0],1)),(a/10).reshape(a.shape[0],1)),axis=1)\n",
    "  for i in range(2,approx_order+1):\n",
    "   X_train = np.concatenate((X_train,(a**i/10**i).reshape(a.shape[0],1)),axis=1)\n",
    "  X_train = X_train.T\n",
    "  np.random.seed(1)\n",
    "  # initializing coefficients of polynomials\n",
    "  W = np.random.randn(X_train.shape[0],1)\n",
    "  # starting updating the parameters by gradient descent\n",
    "  for i in range(100001):\n",
    "    grad = grads(X_train,b,W)\n",
    "    W = update(0.8,W,grad)\n",
    "  # update has been finished, now printing the cost\n",
    "  print(\"W = \",W)\n",
    "  print(\"Cost for order \",approx_order,\" approximation = \",compute_cost(b,W.T@X_train))\n",
    "  # if current order fits perfectly, then loop will break\n",
    "  if compute_cost(b,W.T@X_train) <= 10**(-4):\n",
    "    print(\"Function which will almost fit the given points will be :\",end=\"\")\n",
    "    for i in range(0,approx_order):\n",
    "      print(W[i]/10**i,\"x**\",i,\" + \",end=\"\")\n",
    "    print(W[i+1]/10**(i+1),\"x**\",i+1)  \n",
    "    # displaying the results\n",
    "    x = np.arange(0,10,0.1)\n",
    "    y_ans = approx(x,W)\n",
    "    plt.scatter(a,b)\n",
    "    plt.plot(x,y_ans)\n",
    "    break\n",
    "print(\"Function which will almost fit the given points will be :\",end=\"\")\n",
    "for i in range(0,approx_order):\n",
    "  print(W[i]/10**i,\"x**\",i,\" + \",end=\"\")\n",
    "print(W[i+1]/10**(i+1),\"x**\",i+1)  \n",
    "# displaying the results\n",
    "x = np.arange(0,10,0.1)\n",
    "y_ans = approx(x,W)\n",
    "plt.scatter(a,b)\n",
    "plt.plot(x,y_ans)\n",
    "  "
   ]
  },
  {
   "cell_type": "code",
   "execution_count": 10,
   "metadata": {},
   "outputs": [],
   "source": [
    "a = np.random.randn(4,5)"
   ]
  },
  {
   "cell_type": "code",
   "execution_count": 11,
   "metadata": {},
   "outputs": [
    {
     "data": {
      "text/plain": [
       "array([[ 0.86540763, -2.3015387 ,  1.74481176, -0.7612069 ,  0.3190391 ],\n",
       "       [-0.24937038,  1.46210794, -2.06014071, -0.3224172 , -0.38405435],\n",
       "       [ 1.13376944, -1.09989127, -0.17242821, -0.87785842,  0.04221375],\n",
       "       [ 0.58281521, -1.10061918,  1.14472371,  0.90159072,  0.50249434]])"
      ]
     },
     "execution_count": 11,
     "metadata": {},
     "output_type": "execute_result"
    }
   ],
   "source": [
    "a"
   ]
  },
  {
   "cell_type": "code",
   "execution_count": 12,
   "metadata": {},
   "outputs": [],
   "source": [
    "mu = np.mean(a,axis=0)"
   ]
  },
  {
   "cell_type": "code",
   "execution_count": 13,
   "metadata": {},
   "outputs": [],
   "source": [
    "sigma = np.sqrt(np.var(a, axis=0))"
   ]
  },
  {
   "cell_type": "code",
   "execution_count": 14,
   "metadata": {},
   "outputs": [],
   "source": [
    "normalized = (a-mu)/sigma"
   ]
  },
  {
   "cell_type": "code",
   "execution_count": 15,
   "metadata": {},
   "outputs": [
    {
     "data": {
      "text/plain": [
       "array([[ 5.44218051e-01, -1.12238062e+00,  1.08293984e+00,\n",
       "        -7.04241587e-01,  5.96278340e-01],\n",
       "       [-1.60521574e+00,  1.61787091e+00, -1.52405277e+00,\n",
       "        -8.15233061e-02, -1.50922613e+00],\n",
       "       [ 1.06165376e+00, -2.47480153e-01, -2.30671949e-01,\n",
       "        -8.69790215e-01, -2.32711051e-01],\n",
       "       [-6.56071808e-04, -2.48010133e-01,  6.71784872e-01,\n",
       "         1.65555511e+00,  1.14565884e+00]])"
      ]
     },
     "execution_count": 15,
     "metadata": {},
     "output_type": "execute_result"
    }
   ],
   "source": [
    "normalized"
   ]
  }
 ],
 "metadata": {
  "colab": {
   "authorship_tag": "ABX9TyM5/NN7S0nOEgc31IKDDLQL",
   "collapsed_sections": [],
   "name": "learning polynomial function.ipynb",
   "provenance": []
  },
  "kernelspec": {
   "display_name": "Python 3",
   "language": "python",
   "name": "python3"
  },
  "language_info": {
   "codemirror_mode": {
    "name": "ipython",
    "version": 3
   },
   "file_extension": ".py",
   "mimetype": "text/x-python",
   "name": "python",
   "nbconvert_exporter": "python",
   "pygments_lexer": "ipython3",
   "version": "3.8.3"
  }
 },
 "nbformat": 4,
 "nbformat_minor": 1
}
