{
 "cells": [
  {
   "cell_type": "code",
   "execution_count": 1,
   "id": "6dcf515c",
   "metadata": {},
   "outputs": [],
   "source": [
    "import numpy as np\n",
    "import matplotlib.pyplot as plt\n",
    "import pandas as pd"
   ]
  },
  {
   "cell_type": "code",
   "execution_count": null,
   "id": "79f67ccc",
   "metadata": {},
   "outputs": [],
   "source": [
    "def eigen_decomposition(mat):\n",
    "    '''\n",
    "    1. mat must be square matrix.\n",
    "    2. Only diagonalizable matrices can have eignedecomposition as they are the only ones having the property \n",
    "    dim(W1) + dim(W2) + ...... + dim(Wk) = n {if matrix is nxn square matrix and Wi are the subspaces spanned by \n",
    "    eigenvectors of the unique eigenvalue}.\n",
    "    3. Steps involved - \n",
    "        (i).\n",
    "    '''"
   ]
  }
 ],
 "metadata": {
  "kernelspec": {
   "display_name": "pytorch",
   "language": "python",
   "name": "pytorch"
  },
  "language_info": {
   "codemirror_mode": {
    "name": "ipython",
    "version": 3
   },
   "file_extension": ".py",
   "mimetype": "text/x-python",
   "name": "python",
   "nbconvert_exporter": "python",
   "pygments_lexer": "ipython3",
   "version": "3.9.7"
  }
 },
 "nbformat": 4,
 "nbformat_minor": 5
}
