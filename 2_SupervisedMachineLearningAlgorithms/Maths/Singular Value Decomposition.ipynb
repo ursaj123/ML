{
 "cells": [
  {
   "cell_type": "code",
   "execution_count": 1,
   "id": "7161b617",
   "metadata": {},
   "outputs": [],
   "source": [
    "import numpy as np\n",
    "import pandas as pd\n",
    "import matplotlib.pyplot as plt\n"
   ]
  },
  {
   "cell_type": "code",
   "execution_count": null,
   "id": "2a0835dc",
   "metadata": {},
   "outputs": [],
   "source": [
    "def SVD(mat):\n",
    "    '''\n",
    "    1. Since orthogonal matrix have the property that AA^T = I, and they have perpendicular columns, they are just some\n",
    "    rotation matrices, they can't change the length of the vectors, and as they are square matrices, thus remains in the same\n",
    "    vector space.\n",
    "    2. As we know any matrix multiplication is essentially a transformation which can be viewed as \n",
    "    2. Steps involved:\n",
    "        (i). Find orthogonal eigenvectors of the matrix AA^T\n",
    "        (ii). Find orthogonal eigenvectors of the matrix A^TA\n",
    "        (iii). Find eigenvalues of the matrix A\n",
    "    '''\n",
    "    "
   ]
  }
 ],
 "metadata": {
  "kernelspec": {
   "display_name": "pytorch",
   "language": "python",
   "name": "pytorch"
  },
  "language_info": {
   "codemirror_mode": {
    "name": "ipython",
    "version": 3
   },
   "file_extension": ".py",
   "mimetype": "text/x-python",
   "name": "python",
   "nbconvert_exporter": "python",
   "pygments_lexer": "ipython3",
   "version": "3.9.7"
  }
 },
 "nbformat": 4,
 "nbformat_minor": 5
}
