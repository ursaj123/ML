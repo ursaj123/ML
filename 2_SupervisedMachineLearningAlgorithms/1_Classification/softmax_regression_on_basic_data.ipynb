{
 "cells": [
  {
   "cell_type": "code",
   "execution_count": 1,
   "id": "bdf24812",
   "metadata": {},
   "outputs": [],
   "source": [
    "import numpy as np\n",
    "import matplotlib.pyplot as plt \n",
    "from matplotlib import style\n",
    "import pandas as pd\n",
    "import seaborn as sns\n",
    "\n",
    "import torch \n",
    "from torch.optim import SGD"
   ]
  },
  {
   "cell_type": "code",
   "execution_count": 2,
   "id": "146e8f7f",
   "metadata": {},
   "outputs": [],
   "source": [
    "data = pd.read_csv('wheat.csv')\n",
    "data['category'] = data['category'].astype(int)\n",
    "data = data.values"
   ]
  },
  {
   "cell_type": "markdown",
   "id": "ab8bc511",
   "metadata": {},
   "source": [
    "### Model"
   ]
  },
  {
   "cell_type": "code",
   "execution_count": 3,
   "id": "6d61efa7",
   "metadata": {},
   "outputs": [],
   "source": [
    "def softmax(x):\n",
    "    # x should be of shape (16, 3)\n",
    "    z = torch.exp(x)\n",
    "    s = torch.sum(z, axis=1, keepdims=True)\n",
    "    return z/s\n",
    "\n",
    "def init_params(num_classes, num_features):\n",
    "    w = torch.randn((num_features, num_classes), requires_grad=True)\n",
    "    b = torch.randn((num_classes, ), requires_grad=True)\n",
    "    return [w, b]\n",
    "\n",
    "def forward(x, w, b):\n",
    "    # w - (7, 3), x - (16, 7), b = (3)    \n",
    "    return softmax(torch.matmul(x, w) + b) # shape will be (16, 3)\n",
    "\n",
    "def cross_entropy(y, yhat):\n",
    "    labels = torch.nn.functional.one_hot(y-1, num_classes=3) # shape will be (16, 3)\n",
    "    return -torch.sum(labels*torch.log(yhat)) # now it will be just sum of all (16, 3) matrix\n",
    "\n",
    "def accuracy(x, y, params):\n",
    "    op = forward(x, params[0], params[1]) # shape is (210, 3)\n",
    "    _, ind = torch.max(op, axis=1)\n",
    "    return torch.sum(ind==y)/y.shape[0]\n"
   ]
  },
  {
   "cell_type": "code",
   "execution_count": 4,
   "id": "14db20fe",
   "metadata": {},
   "outputs": [],
   "source": [
    "def train(dataset, num_epochs, lr, batch_size, params, optimizer):\n",
    "    w = params[0]\n",
    "    b = params[1]\n",
    "    losses =  []\n",
    "    #data_x = dataset[:, :-1].clone().detach()\n",
    "    #data_y = dataset[:, -1].clone().detach().to(torch.int)\n",
    "    data_x = torch.tensor(dataset[:, :-1], dtype=torch.float32)\n",
    "    data_y = torch.tensor(dataset[:, -1], dtype=int)\n",
    "    for epoch in range(num_epochs):\n",
    "        losses.append(cross_entropy(data_y, forward(data_x, w, b)).item()) # this step won't be affective \n",
    "        #when the dataset is larger, we can instead do the sum of all the bacthes and take their averages    \n",
    "        if epoch%(num_epochs/10)==0:\n",
    "           print(f'epoch {epoch + 1}, loss {float(losses[-1]):f}, accuracy:{accuracy(data_x, data_y-1, params)}')\n",
    "        #total_loss  =0\n",
    "        #batches_processed = 0\n",
    "        for batch in  torch.utils.data.DataLoader(dataset , batch_size=batch_size):\n",
    "            # shape of w - (7, 5), x - (16, 7), y - (16,) \n",
    "            inp = torch.tensor(batch[:, :-1], dtype=torch.float32)\n",
    "            #print(\"inp.shape = \", inp.shape)\n",
    "            label = torch.tensor(batch[:, -1], dtype=int)\n",
    "           # print(\"label.shape = \", label.shape)\n",
    "            op = forward(inp, w, b)\n",
    "           # print(\"op.shape = \", op.shape)\n",
    "          \n",
    "            \n",
    "            current_loss = cross_entropy(label, op)\n",
    "            #total_loss+= current_loss.item()\n",
    "            \n",
    "            optimizer.zero_grad()\n",
    "            current_loss.backward()\n",
    "            optimizer.step()\n",
    "            #batches_processed+= 1\n",
    "    return losses"
   ]
  },
  {
   "cell_type": "code",
   "execution_count": 5,
   "id": "276dd34e",
   "metadata": {},
   "outputs": [],
   "source": [
    "num_features = 7\n",
    "num_classes = 3\n",
    "\n",
    "# params\n",
    "num_epochs = 1000\n",
    "batch_size = 16\n",
    "params = init_params(num_classes, num_features)\n",
    "lr = 0.001\n",
    "optimizer = SGD(params=params, lr=lr)"
   ]
  },
  {
   "cell_type": "markdown",
   "id": "fec9e27d",
   "metadata": {},
   "source": [
    "### Fitting the parameters"
   ]
  },
  {
   "cell_type": "code",
   "execution_count": 6,
   "id": "a55e9836",
   "metadata": {},
   "outputs": [
    {
     "name": "stdout",
     "output_type": "stream",
     "text": [
      "epoch 1, loss 6591.448242, accuracy:0.3333333432674408\n",
      "epoch 101, loss 260.747314, accuracy:0.6714285612106323\n",
      "epoch 201, loss 225.308105, accuracy:0.7190476059913635\n",
      "epoch 301, loss 202.896362, accuracy:0.7571428418159485\n",
      "epoch 401, loss 181.986557, accuracy:0.761904776096344\n",
      "epoch 501, loss 161.955490, accuracy:0.7809523940086365\n",
      "epoch 601, loss 145.758148, accuracy:0.8047618865966797\n",
      "epoch 701, loss 133.562027, accuracy:0.8095238208770752\n",
      "epoch 801, loss 124.422447, accuracy:0.8238095045089722\n",
      "epoch 901, loss 117.440536, accuracy:0.8238095045089722\n"
     ]
    },
    {
     "data": {
      "image/png": "[encoded data removed]",
      "text/plain": [
       "<Figure size 640x480 with 1 Axes>"
      ]
     },
     "metadata": {},
     "output_type": "display_data"
    }
   ],
   "source": [
    "import warnings\n",
    "warnings.filterwarnings(\"ignore\")\n",
    "losses = train(dataset=torch.tensor(data, dtype=torch.float32), num_epochs=num_epochs, lr=lr, \n",
    "                                batch_size=batch_size, params=params, optimizer=optimizer)            \n",
    "style.use(\"ggplot\")\n",
    "plt.scatter(range(1, num_epochs+1), losses)\n",
    "plt.xlabel(\"Epoch \")\n",
    "plt.ylabel(\"Losses\")\n",
    "#plt.legend()\n",
    "plt.show()"
   ]
  },
  {
   "cell_type": "code",
   "execution_count": null,
   "id": "2ad2b4c5",
   "metadata": {},
   "outputs": [],
   "source": []
  },
  {
   "cell_type": "code",
   "execution_count": null,
   "id": "84ebce4c",
   "metadata": {},
   "outputs": [],
   "source": []
  }
 ],
 "metadata": {
  "kernelspec": {
   "display_name": "pytorch",
   "language": "python",
   "name": "pytorch"
  },
  "language_info": {
   "codemirror_mode": {
    "name": "ipython",
    "version": 3
   },
   "file_extension": ".py",
   "mimetype": "text/x-python",
   "name": "python",
   "nbconvert_exporter": "python",
   "pygments_lexer": "ipython3",
   "version": "3.9.15"
  }
 },
 "nbformat": 4,
 "nbformat_minor": 5
}
