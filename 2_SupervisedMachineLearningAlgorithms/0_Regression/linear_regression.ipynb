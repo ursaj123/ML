{
 "cells": [
  {
   "cell_type": "code",
   "execution_count": 1,
   "id": "4685746f",
   "metadata": {},
   "outputs": [],
   "source": [
    "import numpy as np\n",
    "import matplotlib.pyplot as plt \n",
    "from matplotlib import style\n",
    "import pandas as pd\n",
    "import seaborn as sns\n",
    "\n",
    "import torch \n",
    "from torch.optim import SGD"
   ]
  },
  {
   "cell_type": "code",
   "execution_count": 2,
   "id": "ed9c3985",
   "metadata": {},
   "outputs": [],
   "source": [
    "def generate_regression_samples(num_examples, num_features):\n",
    "    orig_weight = np.random.randn(num_features)\n",
    "    orig_bias = np.random.randn(1)\n",
    "    \n",
    "    x = np.random.randn(num_examples, num_features)\n",
    "    y = np.array([x[i]@orig_weight + orig_bias + np.random.randn(1) for i in range(num_examples)])\n",
    "    return x, y, orig_weight, orig_bias"
   ]
  },
  {
   "cell_type": "markdown",
   "id": "0542b0f0",
   "metadata": {},
   "source": [
    "1. Stochastic gradient descent update are - \n",
    "    \n",
    "    $w$ = $w$ - $(\\eta/\\beta)$*$\\sum_{i\\in\\beta}x^{(i)}(w^Tx^{(i)} + b- y^{(i)})$ \n",
    "\n",
    "    $b$ = $b$ - $(\\eta/\\beta)$*$\\sum_{i\\in\\beta}(w^Tx^{(i)} + b- y^{(i)})$ \n",
    "\n",
    "    where $\\eta$ is the learning rate and $\\beta$ is  the batch size.\n",
    "\n",
    "2. Parameters that are tunable but not updated in the training loop are called hyperparameters. Hyperparameter tuning is the process by which hyperparameters are chosen, and typically requires that we adjust them basedon the results of the training loop as assessed on a separate validation dataset (or validation set).\n"
   ]
  },
  {
   "cell_type": "code",
   "execution_count": 3,
   "id": "a4d8c8f4",
   "metadata": {},
   "outputs": [],
   "source": [
    "# batch generator, mainly used so that we can take benefit of GPU's, and it is memory efficient as well \n",
    "# although we can form dataloaders from here\n",
    "def make_batches(batch_size, features, labels):\n",
    "    num_examples = labels.shape[0]\n",
    "    indices = list(range(num_examples))\n",
    "    # randomly shuffling the examples first\n",
    "    np.random.shuffle(indices)\n",
    "    for i in range(0, num_examples, batch_size):\n",
    "        batch_indices = indices[i:min(i+batch_size, num_examples)]\n",
    "        yield features[batch_indices], labels[batch_indices] \n",
    "        ## more about yield  - https://www.geeksforgeeks.org/python-yield-keyword/ "
   ]
  },
  {
   "cell_type": "code",
   "execution_count": 4,
   "id": "79d2830e",
   "metadata": {},
   "outputs": [],
   "source": [
    "# all initialized as tensors\n",
    "def forward(x, w, b):\n",
    "    #data_x = torch.tensor(x, dtype=torch.float32)\n",
    "    return x@w + b\n",
    "\n",
    "def loss(y, yhat):\n",
    "    return torch.sum((y-yhat.reshape(y.shape[0], 1))**2)/2\n",
    "\n",
    "def init_params(num_features):\n",
    "    w = torch.randn((num_features, 1), requires_grad=True)\n",
    "    b = torch.randn((1), requires_grad=True)\n",
    "    return [w, b]"
   ]
  },
  {
   "cell_type": "code",
   "execution_count": 5,
   "id": "32fd32aa",
   "metadata": {},
   "outputs": [],
   "source": [
    "def train_make_batches(x, y, num_epochs, lr, batch_size, params, optimizer):\n",
    "    w = params[0]\n",
    "    b = params[1]\n",
    "    losses =  []\n",
    "    data_x = torch.tensor(x, dtype=torch.float32)\n",
    "    data_y = torch.tensor(y, dtype=torch.float32)\n",
    "    for epoch in range(num_epochs):\n",
    "        losses.append(loss(data_y, forward(data_x, w, b)).item()) # this step won't be affective when the dataset is larger, we can instead do the sum of all the bacthes and take their averages    \n",
    "        if epoch%(num_epochs/10)==0:\n",
    "            print(f'epoch {epoch + 1}, loss {float(losses[-1]):f}')\n",
    "        #total_loss  =0\n",
    "        #batches_processed = 0\n",
    "        for x_batch, y_batch in  make_batches(batch_size, data_x, data_y):\n",
    "            current_loss = loss(forward(x_batch, w, b), y_batch)\n",
    "            #total_loss+= current_loss.item()\n",
    "            \n",
    "            optimizer.zero_grad()\n",
    "            current_loss.backward()\n",
    "            optimizer.step()\n",
    "            #batches_processed+= 1\n",
    "    return losses"
   ]
  },
  {
   "cell_type": "code",
   "execution_count": 6,
   "id": "0e19f46e",
   "metadata": {},
   "outputs": [],
   "source": [
    "# instead of using the make_batches() function we couold have used the dataloader function from pytorch\n",
    "def train_using_dataloader(x, y, num_epochs, lr, batch_size, params, optimizer):\n",
    "    w = params[0]\n",
    "    b = params[1]\n",
    "    losses =  []\n",
    "    data_x = torch.tensor(x, dtype=torch.float32)\n",
    "    data_y = torch.tensor(y, dtype=torch.float32)\n",
    "    dataset = torch.concat((data_x, data_y), axis=1)\n",
    "    for epoch in range(num_epochs):\n",
    "        losses.append(loss(torch.unsqueeze(dataset[:, 1],1), forward(torch.unsqueeze(dataset[:, 0], 1), w, b)).item()) # this step won't be affective when the dataset is larger, we can instead do the sum of all the bacthes and take their averages    \n",
    "        if epoch%(num_epochs/10)==0:\n",
    "            print(f'epoch {epoch + 1}, loss {float(losses[-1]):f}')\n",
    "        #total_loss  =0\n",
    "        #batches_processed = 0\n",
    "        for batch in  torch.utils.data.DataLoader(dataset , batch_size=batch_size):\n",
    "            # remember batch will be a tensor of (batch_size, 2)\n",
    "            current_loss = loss(forward(torch.unsqueeze(batch[:, 0], 1), w, b),torch.unsqueeze(batch[:, 1], 1))\n",
    "            #total_loss+= current_loss.item()\n",
    "            \n",
    "            optimizer.zero_grad()\n",
    "            current_loss.backward()\n",
    "            optimizer.step()\n",
    "            #batches_processed+= 1\n",
    "    return losses"
   ]
  },
  {
   "cell_type": "code",
   "execution_count": 7,
   "id": "5d24fe4c",
   "metadata": {},
   "outputs": [
    {
     "data": {
      "image/png": "[encoded data removed]",
      "text/plain": [
       "<Figure size 432x288 with 1 Axes>"
      ]
     },
     "metadata": {},
     "output_type": "display_data"
    }
   ],
   "source": [
    "# hyperparameters\n",
    "num_features = 1 # for generating synthetic data for regression \n",
    "num_examples = 99 # for generating synthetic data\n",
    "\n",
    "num_epochs = 50\n",
    "batch_size = 10\n",
    "params = init_params(num_features)\n",
    "lr = 0.001\n",
    "optimizer = SGD(params=params, lr=lr)\n",
    "\n",
    "# data for training\n",
    "x, y, orig_w, orig_b = generate_regression_samples(99, 1)\n",
    "style.use(\"ggplot\")\n",
    "plt.scatter(x, y)\n",
    "plt.xlabel(\"x values\")\n",
    "plt.ylabel(\"y values\")\n",
    "plt.show()"
   ]
  },
  {
   "cell_type": "code",
   "execution_count": 8,
   "id": "f655e194",
   "metadata": {},
   "outputs": [
    {
     "name": "stdout",
     "output_type": "stream",
     "text": [
      "epoch 1, loss 438.384766\n",
      "epoch 6, loss 201.080383\n",
      "epoch 11, loss 109.531548\n",
      "epoch 16, loss 74.179550\n",
      "epoch 21, loss 60.514523\n",
      "epoch 26, loss 55.226460\n",
      "epoch 31, loss 53.177292\n",
      "epoch 36, loss 52.381809\n",
      "epoch 41, loss 52.072239\n",
      "epoch 46, loss 51.951336\n"
     ]
    },
    {
     "data": {
      "image/png": "[encoded data removed]",
      "text/plain": [
       "<Figure size 720x288 with 2 Axes>"
      ]
     },
     "metadata": {},
     "output_type": "display_data"
    }
   ],
   "source": [
    "losses = train_using_dataloader(x, y, num_epochs=num_epochs, lr=lr, batch_size=batch_size, params=params, optimizer=optimizer)            \n",
    "plt.figure(figsize=(10, 4))\n",
    "plt.subplot(1,2, 1)\n",
    "style.use(\"ggplot\")\n",
    "plt.scatter(range(1, num_epochs+1), losses)\n",
    "plt.xlabel(\"Epoch \")\n",
    "plt.ylabel(\"Losses\")\n",
    "plt.subplot(1,2,2)\n",
    "style.use(\"ggplot\")\n",
    "plt.scatter(x, y)\n",
    "plt.plot(x, forward(x, params[0].detach().numpy(), params[1].detach().numpy()), 'g')\n",
    "plt.plot(x, forward(x, orig_w, orig_b))\n",
    "plt.legend(['Data Points', 'Predicted Line', 'Original Line'])\n",
    "\n",
    "#plt.legend()\n",
    "plt.show()"
   ]
  },
  {
   "cell_type": "code",
   "execution_count": 9,
   "id": "3b104be4",
   "metadata": {},
   "outputs": [
    {
     "data": {
      "text/plain": [
       "[tensor([[-0.2578]], requires_grad=True),\n",
       " tensor([-0.6451], requires_grad=True)]"
      ]
     },
     "execution_count": 9,
     "metadata": {},
     "output_type": "execute_result"
    }
   ],
   "source": [
    "params"
   ]
  },
  {
   "cell_type": "code",
   "execution_count": 10,
   "id": "d4d27e8f",
   "metadata": {},
   "outputs": [
    {
     "data": {
      "text/plain": [
       "[array([-0.25692483]), array([-0.55945988])]"
      ]
     },
     "execution_count": 10,
     "metadata": {},
     "output_type": "execute_result"
    }
   ],
   "source": [
    "[orig_w, orig_b]"
   ]
  },
  {
   "cell_type": "code",
   "execution_count": null,
   "id": "ed6369e0",
   "metadata": {},
   "outputs": [],
   "source": []
  }
 ],
 "metadata": {
  "kernelspec": {
   "display_name": "Python 3 (ipykernel)",
   "language": "python",
   "name": "python3"
  },
  "language_info": {
   "codemirror_mode": {
    "name": "ipython",
    "version": 3
   },
   "file_extension": ".py",
   "mimetype": "text/x-python",
   "name": "python",
   "nbconvert_exporter": "python",
   "pygments_lexer": "ipython3",
   "version": "3.9.15"
  }
 },
 "nbformat": 4,
 "nbformat_minor": 5
}
