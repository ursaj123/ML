{
 "cells": [
  {
   "cell_type": "code",
   "execution_count": 1,
   "id": "d337f7c1",
   "metadata": {},
   "outputs": [],
   "source": [
    "import re\n",
    "import string\n",
    "from time import time \n",
    "\n",
    "import torch\n",
    "import torch.nn as nn\n",
    "from torchsummary import summary\n",
    "\n",
    "import pandas as pd\n",
    "import matplotlib.pyplot as plt\n",
    "import numpy as np\n",
    "\n",
    "import nltk\n",
    "from nltk.corpus import stopwords\n",
    "from nltk.stem import PorterStemmer\n"
   ]
  },
  {
   "cell_type": "code",
   "execution_count": 2,
   "id": "f54ee1ad",
   "metadata": {},
   "outputs": [
    {
     "name": "stderr",
     "output_type": "stream",
     "text": [
      "[nltk_data] Downloading package stopwords to\n",
      "[nltk_data]     C:\\Users\\Ayush\\AppData\\Roaming\\nltk_data...\n",
      "[nltk_data]   Package stopwords is already up-to-date!\n"
     ]
    }
   ],
   "source": [
    "nltk.download('stopwords')\n",
    "punct = string.punctuation\n",
    "stopwords_english = stopwords.words('english')\n",
    "stemmer = PorterStemmer()\n",
    "path = \"C:\\\\Users\\\\Ayush\\\\Desktop\\\\Let_us_start_once_again\\\\NLP\\\\2_WordEmbeddings\\\\shakespeare.txt\""
   ]
  },
  {
   "cell_type": "code",
   "execution_count": 3,
   "id": "802fc22f",
   "metadata": {},
   "outputs": [
    {
     "name": "stdout",
     "output_type": "stream",
     "text": [
      "52202\n"
     ]
    }
   ],
   "source": [
    "def preprocessing(string, stopwords, stemmer):\n",
    "    '''We can do all the preprocessing in just one step by creating a pipeline\n",
    "    First, we have to make all the words in lowercase,\n",
    "    then we have to tokenize the string,\n",
    "    then we have to remove stopwords and \n",
    "    finally we have to stem all the words.\n",
    "    This is how it will be ready to be analyzed further'''\n",
    "    string = re.sub(r'\\n', ' ', string)\n",
    "    string  = string.lower()\n",
    "    tokens = re.split('\\s|(?<!\\d)[,.](?!\\d)', string)\n",
    "    '''\n",
    "    clean_tokens = []\n",
    "    for word in tokens:\n",
    "        if word not in stopwords:\n",
    "            clean_tokens.append(word)\n",
    "    \n",
    "    stemmed_words = []\n",
    "    for word in tokens:\n",
    "        stemmed_words.append(stemmer.stem(word))\n",
    "    '''\n",
    "    preprocessed_array = []\n",
    "    for word in tokens:\n",
    "        if word!='':\n",
    "            preprocessed_array.append(word)\n",
    "            \n",
    "    return preprocessed_array\n",
    "#########################################\n",
    "#dataset['preprocessed'] = dataset['text'].apply(lambda x:preprocessing(x, stopwords_english, stemmer))    \n",
    "#dataset.head(10)\n",
    "with open(path) as f:\n",
    "    data = f.read()\n",
    "data = preprocessing(data, stopwords_english, stemmer)\n",
    "print(len(data))"
   ]
  },
  {
   "cell_type": "code",
   "execution_count": 4,
   "id": "3247e2aa",
   "metadata": {},
   "outputs": [
    {
     "name": "stdout",
     "output_type": "stream",
     "text": [
      "7751\n"
     ]
    }
   ],
   "source": [
    "def build_frequency(data):\n",
    "    vocab = {}\n",
    "    for word in data:\n",
    "        if word in vocab.keys():\n",
    "            vocab[word]+=1\n",
    "        else:\n",
    "            vocab[word] = 1\n",
    "    return vocab\n",
    "#####################################\n",
    "vocab = build_frequency(data)\n",
    "print(len(vocab))"
   ]
  },
  {
   "cell_type": "code",
   "execution_count": 5,
   "id": "f6d0d1ce",
   "metadata": {},
   "outputs": [
    {
     "name": "stdout",
     "output_type": "stream",
     "text": [
      "7751\n"
     ]
    }
   ],
   "source": [
    "def build_prob(vocab):\n",
    "    total = 0\n",
    "    for word in vocab.keys():\n",
    "        total+= vocab[word]\n",
    "    probs = {}\n",
    "    for word in vocab.keys():\n",
    "        probs[word] = vocab[word]/total\n",
    "    return probs\n",
    "\n",
    "probs = build_prob(vocab)\n",
    "print(len(probs))"
   ]
  },
  {
   "cell_type": "markdown",
   "id": "75ccb8a1",
   "metadata": {},
   "source": [
    "### ***Now we have to find the edit words at one distance and two distance away***"
   ]
  },
  {
   "cell_type": "code",
   "execution_count": 6,
   "id": "f8afc8cb",
   "metadata": {},
   "outputs": [],
   "source": [
    "def delete(word):\n",
    "    possible_words = []\n",
    "    for i in range(len(word)):\n",
    "        possible_words.append(word[:i] + word[i+1:])\n",
    "    return possible_words"
   ]
  },
  {
   "cell_type": "code",
   "execution_count": 7,
   "id": "2058f060",
   "metadata": {},
   "outputs": [
    {
     "name": "stdout",
     "output_type": "stream",
     "text": [
      "2\n",
      "['t', 'a']\n"
     ]
    }
   ],
   "source": [
    "deletes = delete('at')\n",
    "print(len(deletes))\n",
    "print(deletes)"
   ]
  },
  {
   "cell_type": "code",
   "execution_count": 8,
   "id": "ce7ae6be",
   "metadata": {},
   "outputs": [],
   "source": [
    "def insert(word):\n",
    "    letters = 'abcdefghijklmnopqrstuvwxyz'\n",
    "    possible_words = []\n",
    "    for i in range(1+len(word)):\n",
    "        for l in letters:\n",
    "            possible_words.append(word[:i] + l + word[i:])\n",
    "    return possible_words"
   ]
  },
  {
   "cell_type": "code",
   "execution_count": 9,
   "id": "29bd9b0c",
   "metadata": {},
   "outputs": [
    {
     "name": "stdout",
     "output_type": "stream",
     "text": [
      "78\n",
      "['aat', 'bat', 'cat', 'dat', 'eat', 'fat', 'gat', 'hat', 'iat', 'jat', 'kat', 'lat', 'mat', 'nat', 'oat', 'pat', 'qat', 'rat', 'sat', 'tat', 'uat', 'vat', 'wat', 'xat', 'yat', 'zat', 'aat', 'abt', 'act', 'adt', 'aet', 'aft', 'agt', 'aht', 'ait', 'ajt', 'akt', 'alt', 'amt', 'ant', 'aot', 'apt', 'aqt', 'art', 'ast', 'att', 'aut', 'avt', 'awt', 'axt', 'ayt', 'azt', 'ata', 'atb', 'atc', 'atd', 'ate', 'atf', 'atg', 'ath', 'ati', 'atj', 'atk', 'atl', 'atm', 'atn', 'ato', 'atp', 'atq', 'atr', 'ats', 'att', 'atu', 'atv', 'atw', 'atx', 'aty', 'atz']\n"
     ]
    }
   ],
   "source": [
    "inserts = insert('at')\n",
    "print(len(inserts))\n",
    "print(inserts)"
   ]
  },
  {
   "cell_type": "code",
   "execution_count": 10,
   "id": "04d6ebe0",
   "metadata": {},
   "outputs": [],
   "source": [
    "def replace(word):\n",
    "    letters = 'abcdefghijklmnopqrstuvwxyz'\n",
    "    possible_words = []\n",
    "    for i in range(len(word)):\n",
    "        for l in letters:\n",
    "            possible_words.append(word[:i] + l + word[i+1:])\n",
    "    return possible_words"
   ]
  },
  {
   "cell_type": "code",
   "execution_count": 11,
   "id": "642843c4",
   "metadata": {},
   "outputs": [
    {
     "name": "stdout",
     "output_type": "stream",
     "text": [
      "52\n",
      "['at', 'bt', 'ct', 'dt', 'et', 'ft', 'gt', 'ht', 'it', 'jt', 'kt', 'lt', 'mt', 'nt', 'ot', 'pt', 'qt', 'rt', 'st', 'tt', 'ut', 'vt', 'wt', 'xt', 'yt', 'zt', 'aa', 'ab', 'ac', 'ad', 'ae', 'af', 'ag', 'ah', 'ai', 'aj', 'ak', 'al', 'am', 'an', 'ao', 'ap', 'aq', 'ar', 'as', 'at', 'au', 'av', 'aw', 'ax', 'ay', 'az']\n"
     ]
    }
   ],
   "source": [
    "replaces = replace('at')\n",
    "print(len(replaces))\n",
    "print(replaces)"
   ]
  },
  {
   "cell_type": "code",
   "execution_count": 12,
   "id": "df537bc5",
   "metadata": {},
   "outputs": [],
   "source": [
    "def switch(word):\n",
    "    possible_words = []\n",
    "    for i in range(len(word)-1):\n",
    "        possible_words.append(word[:i] + word[i+1] + word[i] + word[i+2:])\n",
    "    return possible_words"
   ]
  },
  {
   "cell_type": "code",
   "execution_count": 13,
   "id": "5e318285",
   "metadata": {},
   "outputs": [
    {
     "name": "stdout",
     "output_type": "stream",
     "text": [
      "1\n",
      "['ta']\n"
     ]
    }
   ],
   "source": [
    "switches = switch('at')\n",
    "print(len(switches))\n",
    "print(switches)"
   ]
  },
  {
   "cell_type": "code",
   "execution_count": 14,
   "id": "e404f885",
   "metadata": {},
   "outputs": [],
   "source": [
    "def one_edit_dist(word):\n",
    "    # we are only looking for delete, insert, switch (adjacent letters) and replace\n",
    "    return list(set(delete(word) + insert(word) + replace(word) + switch(word)))"
   ]
  },
  {
   "cell_type": "code",
   "execution_count": 15,
   "id": "61099a4e",
   "metadata": {},
   "outputs": [
    {
     "name": "stdout",
     "output_type": "stream",
     "text": [
      "130\n",
      "['adt', 'ot', 'ax', 'ait', 'bat', 'abt', 'aut', 'dt', 'tat', 'az', 'aqt', 'ah', 'lt', 'ak', 'ayt', 'cat', 'ab', 'fat', 'av', 'aj', 'atj', 'aft', 'yat', 'atq', 'yt', 'ath', 'atv', 'ats', 'aw', 'xt', 'aat', 'qat', 'ft', 'iat', 'azt', 'vt', 'ajt', 'nat', 'atn', 'nt', 'atg', 'ag', 'kat', 'dat', 'atw', 'am', 'atu', 't', 'aot', 'jt', 'an', 'jat', 'atl', 'ar', 'aq', 'mt', 'ac', 'awt', 'rat', 'ata', 'wat', 'at', 'al', 'uat', 'wt', 'ht', 'bt', 'tt', 'a', 'ad', 'zt', 'sat', 'pat', 'amt', 'ct', 'aa', 'apt', 'st', 'ast', 'att', 'ati', 'atx', 'et', 'aet', 'atz', 'hat', 'ut', 'atb', 'alt', 'as', 'pt', 'ta', 'atd', 'aht', 'atp', 'ant', 'ap', 'axt', 'qt', 'ato', 'eat', 'ao', 'mat', 'atc', 'atm', 'oat', 'zat', 'au', 'agt', 'ate', 'lat', 'it', 'art', 'kt', 'rt', 'ae', 'vat', 'atf', 'aty', 'xat', 'akt', 'atk', 'ay', 'af', 'gat', 'ai', 'gt', 'atr', 'act', 'avt']\n"
     ]
    }
   ],
   "source": [
    "one_edits = one_edit_dist('at')\n",
    "print(len(one_edits))\n",
    "print(one_edits)"
   ]
  },
  {
   "cell_type": "code",
   "execution_count": 16,
   "id": "8f6d643d",
   "metadata": {},
   "outputs": [],
   "source": [
    "def two_edit_dist(word):\n",
    "    possible_word = []\n",
    "    for w in one_edit_dist(word):\n",
    "        possible_word+= one_edit_dist(w)\n",
    "    return list(set(possible_word))"
   ]
  },
  {
   "cell_type": "code",
   "execution_count": 17,
   "id": "837eeef8",
   "metadata": {},
   "outputs": [
    {
     "name": "stdout",
     "output_type": "stream",
     "text": [
      "7154\n",
      "['atfs', '', 'uo', 'vay', 'sbt', 'cact', 'ttv', 'atan', 'aqs', 'utx', 'aiht', 'ajf', 'atme', 'lan', 'ajwt', 'vaqt', 'ynt', 'htr', 'xeat', 'vwat', 'ycat', 'zq', 'qtz', 'ajty', 'pq', 'atqj', 'otn', 'aelt', 'ppt', 'atdq', 'daot', 'oaht', 'xaot', 'pjat', 'awit', 'xty', 'ibt', 'fp', 'aua', 'iut', 'ltl', 'nag', 'kmt', 'zaz', 'agit', 'hz', 'ltf', 'iatf', 'atje', 'tap', 'oant', 'katr', 'arit', 'pag', 'azft', 'awtp', 'iab', 'atsg', 'dap', 'hagt', 'athz', 'zs', 'abct', 'ftv', 'wtu', 'wst', 'zatv', 'asy', 'ret', 'ztd', 'atkp', 'amy', 'atwi', 'fap', 'ftf', 'kant', 'aftf', 'cta', 'acct', 'cah', 'uatz', 'oatg', 'atmm', 'bkat', 'ratk', 'dtz', 'fatp', 'brt', 'avtr', 'im', 'mf', 'fai', 'tuat', 'yaq', 'afmt', 'xa', 'ali', 'azi', 'fas', 'aatm', 'aqet', 'aur', 'atwn', 'satc', 'ctr', 'ja', 'atfn', 'dht', 'ha', 'aimt', 'so', 'ayvt', 'atrv', 'mjt', 'catb', 'fft', 'wr', 'kaf', 'azte', 'vata', 'savt', 'tyt', 'htq', 'eata', 'autp', 'smat', 'cqt', 'eatw', 'kaut', 'pak', 'btk', 'axtv', 'dgt', 'aqto', 'li', 'ajtt', 'aig', 'uato', 'riat', 'jati', 'jut', 'ix', 'oit', 'ftr', 'bjt', 'atqg', 'ex', 'eact', 'qmat', 'zkat', 'afc', 'yatd', 'galt', 'atec', 'qfat', 'agti', 'abtr', 'pb', 'vjat', 'rao', 'apty', 'lyat', 'aget', 'atvj', 'rapt', 'ggat', 'kah', 'azts', 'apet', 'qayt', 'agtu', 'cait', 'atdp', 'ptt', 'atjf', 'hwat', 'arg', 'waj', 'atvn', 'alht', 'faet', 'pwt', 'maxt', 'aktu', 'ant', 'uut', 'aftc', 'aozt', 'aqtf', 'atbh', 'ukat', 'ljat', 'aly', 'habt', 'aktd', 'yatj', 'asti', 'lti', 'lu', 'gd', 'aow', 'atjy', 'atfi', 'qamt', 'aga', 'uatq', 'oaut', 'uwt', 'aptf', 'lst', 'laty', 'upt', 'akdt', 'atld', 'vet', 'aitm', 'ajti', 'aots', 'mait', 'taxt', 'kai', 'nas', 'jast', 'az', 'wb', 'amtg', 'atyw', 'aety', 'azl', 'fatf', 'wtg', 'antz', 'xk', 'dp', 'aqzt', 'iat', 'ytg', 'gl', 'xte', 'jg', 'sd', 'atya', 'alk', 'atix', 'aqtg', 'balt', 'atne', 'aef', 'pte', 'fq', 'iapt', 'aml', 'amkt', 'aitr', 'eht', 'uap', 'rqt', 'agth', 'dcat', 'haj', 'uat', 'atmw', 'jvat', 'ls', 'tatf', 'watm', 'afti', 'jb', 'yg', 'ngat', 'what', 'knat', 'gatl', 'agyt', 'odat', 'aki', 'fxt', 'uati', 'ww', 'wait', 'aitb', 'aktb', 'yayt', 'anr', 'aymt', 'zao', 'jo', 'acy', 'mto', 'ta', 'ult', 'aun', 'mu', 'ark', 'qaft', 'iant', 'dtv', 'avlt', 'bau', 'acty', 'afr', 'lah', 'aan', 'um', 'atpr', 'ylt', 'ratz', 'xait', 'datd', 'oah', 'dast', 'qyat', 'aute', 'ahp', 'lar', 'gtp', 'fay', 'catw', 'aitu', 'naj', 'nte', 'aqwt', 'ptj', 'nae', 'ada', 'apc', 'ez', 'erat', 'gatj', 'pmat', 'azv', 'ans', 'hah', 'caxt', 'iaq', 'nlt', 'tat', 'hatu', 'yvat', 'zv', 'zatg', 'ntg', 'atiw', 'lt', 'vv', 'ptw', 'gajt', 'awc', 'atsd', 'lakt', 'iaet', 'ratu', 'maa', 'mts', 'aqdt', 'avv', 'uakt', 'eatn', 'yatf', 'abq', 'oot', 'awj', 'natz', 'aaw', 'glat', 'pm', 'apdt', 'amb', 'iaft', 'hta', 'ctq', 'actx', 'vvt', 'znat', 'agl', 'xsat', 'autq', 'htd', 'uao', 'gpat', 'jtk', 'vtd', 'taj', 'gawt', 'wagt', 'azj', 'zay', 'datu', 'kaxt', 'atwc', 'ezat', 'vait', 'mg', 'atrn', 'tazt', 'gats', 'diat', 'npat', 'xxt', 'agtr', 'ltm', 'astf', 'yf', 'ram', 'atqr', 'hqat', 'xaa', 'jay', 'axth', 'ext', 'awtk', 'tatl', 'ld', 'xc', 'arty', 'vad', 'ktb', 'axl', 'satw', 'gatd', 'bas', 'abth', 'aqm', 'cmt', 'aptd', 'gta', 'abtk', 'vqt', 'etv', 'atjo', 'rbt', 'aztt', 'njat', 'wmat', 'aith', 'ptx', 'datq', 'htk', 'oaqt', 'aetj', 'wai', 'afte', 'oate', 'scat', 'aowt', 'vrat', 'aptp', 'aov', 'gfat', 'adzt', 'tao', 'ptz', 'lc', 'aetv', 'its', 'aqn', 'vtr', 'vit', 'lbt', 'dyat', 'mate', 'yp', 'alts', 'pyat', 'iaw', 'jts', 'waa', 'afth', 'aztc', 'fast', 'aivt', 'joat', 'gaet', 'atky', 'dae', 'agw', 'iwt', 'viat', 'kwat', 'aru', 'tca', 'nh', 'ahtx', 'sayt', 'atq', 'czt', 'faot', 'ajtp', 'aeto', 'yot', 'jf', 'jaa', 'aglt', 'hxat', 'apw', 'gdt', 'jtf', 'get', 'ctp', 'ofat', 'hs', 'agx', 'ytat', 'autv', 'crt', 'atlj', 'uatx', 'awht', 'ojat', 'lth', 'amtt', 'ava', 'avtx', 'xht', 'rrat', 'sab', 'ltj', 'cgat', 'cj', 'ogat', 'ahd', 'annt', 'aix', 'att', 'ge', 'aret', 'oag', 'atb', 'abo', 'xatf', 'waut', 'uath', 'pac', 'vtat', 'agm', 'atta', 'adwt', 'aknt', 'lawt', 'atwd', 'rayt', 'atop', 'apy', 'cart', 'avh', 'hts', 'xtl', 'raht', 'laat', 'vs', 'atvf', 'ms', 'uazt', 'jagt', 'aamt', 'har', 'watu', 'ssat', 'dato', 'wtq', 'any', 'aqg', 'fte', 'asxt', 'vawt', 'fti', 'faqt', 'uuat', 'atef', 'qath', 'actb', 'ydat', 'athg', 'slt', 'boat', 'aak', 'lajt', 'yatz', 'aert', 'aj', 'amth', 'cmat', 'nr', 'eit', 'adw', 'kadt', 'aetw', 'ght', 'uu', 'ract', 'ial', 'amti', 'datn', 'jaft', 'oak', 'ael', 'astc', 'aete', 'uate', 'tk', 'grt', 'ltg', 'watp', 'afdt', 'xag', 'yatp', 'asft', 'xatz', 'xkat', 'gar', 'mb', 'em', 'atej', 'dxat', 'atdo', 'iyat', 'uatj', 'ratl', 'ratw', 'iact', 'atpu', 'wbt', 'of', 'auet', 'abft', 'axqt', 'xth', 'jtt', 'ast', 'nau', 'ie', 'ahot', 'anst', 'htat', 'pabt', 'atsk', 'axb', 'raq', 'gts', 'qnat', 'utu', 'ovat', 'qtm', 'ke', 'lwt', 'xav', 'qtr', 'zst', 'djt', 'ack', 'ni', 'afpt', 'wcat', 'tnat', 'rav', 'hatl', 'ztn', 'agqt', 'oato', 'taa', 'dwat', 'lnt', 'yth', 'gtu', 'vw', 'waw', 'zg', 'gad', 'qax', 'fax', 'aart', 'ij', 'uavt', 'aqtr', 'jate', 'qgat', 'patf', 'bakt', 'xae', 'atie', 'eo', 'lrt', 'rit', 'wad', 'auct', 'ryt', 'atht', 'oao', 'paet', 'atoj', 'yajt', 'aljt', 'capt', 'abb', 'eiat', 'iah', 'aum', 'btp', 'atps', 'qatj', 'papt', 'avti', 'co', 'agtt', 'ru', 'yv', 'ewt', 'atdt', 'paqt', 'agkt', 'hag', 'zut', 'lty', 'gh', 'matk', 'avet', 'nap', 'zam', 'vg', 'gatw', 'afbt', 'kot', 'apat', 'wet', 'd', 'anz', 'ftd', 'aspt', 'nlat', 'rtk', 'ift', 'atyt', 'caf', 'drt', 'atju', 'aoq', 'paut', 'adts', 'tts', 'agtn', 'aztx', 'qtt', 'sp', 'ktk', 'wyat', 'asp', 'atff', 'gtx', 'vaj', 'eavt', 'patk', 'tth', 'qtx', 'atzb', 'xatl', 'nd', 'utl', 'aztw', 'rdt', 'tal', 'gbat', 'ptat', 'aqf', 'batf', 'zatu', 'abtl', 'btu', 'gatn', 'hatc', 'eu', 'amf', 'go', 'atlk', 'xe', 'fant', 'vant', 'dmat', 'fabt', 'uoat', 'atuw', 'awtu', 'qmt', 'atcx', 'swat', 'aws', 'ahtl', 'ame', 'aytw', 'ath', 'yab', 'agtc', 'patt', 'ytv', 'kati', 'rqat', 'ykt', 'awy', 'qr', 'satb', 'aset', 'sk', 'nbt', 'cau', 'hzt', 'iwat', 'atew', 'actf', 'gaa', 'atku', 'xtk', 'atvl', 'xaq', 'atgu', 'zzat', 'okat', 'iatt', 'ymat', 'mht', 'urt', 'ket', 'htv', 'avr', 'rvt', 'xatx', 'bo', 'r', 'apqt', 'mnat', 'jgat', 'avtv', 'faz', 'pap', 'aotn', 'dwt', 'jatf', 'atoy', 'nac', 'catt', 'ajtk', 'rjt', 'ehat', 'taz', 'eart', 'gadt', 'pats', 'aez', 'ftm', 'kae', 'cnat', 'lat', 'tut', 'alf', 'vz', 'eant', 'atcf', 'wtw', 'hcat', 'arat', 'lk', 'atk', 'vtb', 'apto', 'pp', 'pxt', 'gkat', 'asvt', 'atdl', 'azvt', 'qb', 'astb', 'mtr', 'aiat', 'acwt', 'aept', 'ita', 'czat', 'vatf', 'zaot', 'bait', 'fiat', 'cwt', 'athu', 'iap', 'atgp', 'alut', 'sit', 'adxt', 'gatz', 'atbk', 'bdat', 'atye', 'ak', 'ey', 'btx', 'aou', 'bact', 'eaqt', 'fat', 'ahx', 'tc', 'axtf', 'cak', 'adgt', 'aprt', 'atjs', 'stk', 'alr', 'htp', 'gtb', 'aaft', 'avtt', 'vatq', 'oaw', 'fhat', 'anat', 'altw', 'haw', 'adat', 'cav', 'gjt', 'aca', 'iatx', 'nto', 'ejat', 'aqtl', 'iati', 'gm', 'kj', 'bst', 'jat', 'uatb', 'gam', 'xtx', 'sta', 'yht', 'adp', 'otk', 'atod', 'atkj', 'antm', 'ater', 'vac', 'amt', 'ota', 'twat', 'bf', 'aa', 'pnat', 'atx', 'ati', 'aftm', 'wao', 'zti', 'eaj', 'aso', 'favt', 'tcat', 'zuat', 'atcc', 'atwf', 'adty', 'dhat', 'ciat', 'aap', 'oau', 'awgt', 'awts', 'auit', 'gab', 'pdt', 'fawt', 'me', 'oaa', 'axtm', 'jact', 'cgt', 'tant', 'way', 'efat', 'majt', 'aeq', 'aigt', 'alyt', 'qabt', 'jth', 'uamt', 'yb', 'tajt', 'rgt', 'qajt', 'etg', 'pati', 'aal', 'vkt', 'xh', 'stc', 'ist', 'xx', 'cct', 'gb', 'apa', 'oft', 'ttat', 'pajt', 'ajtj', 'sdat', 'akl', 'nagt', 'wtat', 'btb', 'matx', 'htm', 'aytg', 'rpt', 'batv', 'altp', 'andt', 'yzat', 'iac', 'adta', 'nta', 'xbat', 'ogt', 'sadt', 'tj', 'gau', 'patg', 'atkl', 'rai', 'xac', 'ocat', 'samt', 'ajts', 'oeat', 'ort', 'baa', 'fyat', 'ytz', 'datv', 'xpt', 'catf', 'aota', 'uyt', 'satf', 'ytx', 'aaat', 'ztv', 'aea', 'aezt', 'cwat', 'lit', 'arr', 'atxy', 'ltv', 'atvd', 'dtt', 'aftv', 'atpx', 'atrj', 'uatd', 'ety', 'qah', 'aqtd', 'xakt', 'ajto', 'oay', 'ags', 'awct', 'vx', 'axjt', 'lkat', 'ug', 'eatr', 'aolt', 'yay', 'navt', 'asj', 'yatv', 'awr', 'aotk', 'asi', 'gtc', 'uagt', 'ratv', 'rtr', 'zal', 'aitd', 'opat', 'oi', 'abu', 'kr', 'pant', 'nb', 'aftu', 'xu', 'uatn', 'anf', 'atgk', 'zth', 'wp', 'atnx', 'ahto', 'aejt', 'auh', 'hac', 'uta', 'fatc', 'zu', 'itb', 'pti', 'satg', 'kdt', 'qait', 'xy', 'itat', 'aiet', 'atoh', 'asd', 'tfat', 'po', 'aqe', 'ajy', 'apm', 'akx', 'bs', 'ntk', 'wdat', 'zaw', 'jao', 'ayxt', 'btc', 'xyt', 'vamt', 'taht', 'hrat', 'axw', 'aq', 'tzat', 'ackt', 'abbt', 'wat', 'akp', 'xs', 'xaxt', 'gagt', 'ad', 'su', 'caat', 'ahts', 'atio', 'dtl', 'tdt', 'axtt', 'uatr', 'adg', 'qj', 'batw', 'azat', 'atzg', 'asa', 'zak', 'vayt', 'hft', 'htj', 'muat', 'zatc', 'asv', 'vfat', 'awe', 'auat', 'alx', 'atus', 'aegt', 'eatj', 'xatd', 'katx', 'vax', 'xawt', 'xf', 'yad', 'aist', 'artn', 'ptr', 'xoat', 'zat', 'atxb', 'aktv', 'jgt', 'hakt', 'amnt', 'atlc', 'aetg', 'athl', 'wqat', 'azkt', 'aiut', 'jam', 'atbx', 'lamt', 'atfx', 'aetf', 'ajtw', 'heat', 'atqh', 'ziat', 'aau', 'ote', 'atcw', 'rhat', 'amtv', 'rto', 'akti', 'cq', 'ypt', 'uwat', 'lax', 'ur', 'avtb', 'mkat', 'te', 'krat', 'qaht', 'bv', 'autj', 'vab', 'txat', 'ahtj', 'asyt', 'ian', 'pyt', 'zah', 'uft', 'aemt', 'alti', 'dts', 'abvt', 'aah', 'sct', 'zot', 'ahct', 'yh', 'uab', 'aza', 'en', 'azit', 'rp', 'tht', 'xtf', 'laz', 'athe', 'hkt', 'mot', 'anut', 'qjat', 'yart', 'ttg', 'zajt', 'iaxt', 'iatk', 'vaft', 'abte', 'xalt', 'fatm', 'kwt', 'gg', 'eav', 'vgt', 'acnt', 'ut', 'aytq', 'atea', 'haqt', 'alt', 'aoct', 'atlv', 'etu', 'zrt', 'es', 'weat', 'aac', 'aht', 'rtq', 'piat', 'satz', 'aytm', 'latq', 'agd', 'obat', 'sl', 'ankt', 'qvat', 'atzw', 'atgl', 'anq', 'wti', 'ayi', 'kgt', 'wct', 'abp', 'anlt', 'faty', 'fet', 'apz', 'taqt', 'alit', 'rac', 'qbt', 'axzt', 'ayg', 'dv', 'aev', 'xnt', 'aptv', 'eazt', 'atog', 'out', 'batk', 'atnv', 'uajt', 'ytw', 'vast', 'blat', 'kad', 'xtq', 'ftk', 'okt', 'aytz', 'matc', 'adct', 'hmat', 'wapt', 'mct', 'hiat', 'stb', 'bp', 'fatd', 'xb', 'tatj', 'wwt', 'pkat', 'dyt', 'iag', 'dtu', 'kqt', 'abr', 'natl', 'atgn', 'mut', 'vpat', 'atti', 'ampt', 'yatm', 'hl', 'aytd', 'watv', 'xadt', 'qw', 'aodt', 'utt', 'nat', 'jte', 'kbat', 'athd', 'aoth', 'ptm', 'atmy', 'atbu', 'kzat', 'ch', 'el', 'aylt', 'razt', 'afv', 'aqpt', 'wnt', 'og', 'atfd', 'aits', 'uty', 'htf', 'ated', 'ntl', 'ict', 'aojt', 'avm', 'aqtb', 'jatc', 'yaa', 'aott', 'amtx', 'altz', 'iawt', 'xfat', 'hto', 'amtz', 'ptc', 'caqt', 'nft', 'htu', 'eak', 'akf', 'haut', 'fath', 'au', 'acvt', 'aitw', 'fayt', 'naq', 'pht', 'batz', 'aitk', 'auyt', 'das', 'kaft', 'awmt', 'faxt', 'ajn', 'katy', 'ahw', 'ftl', 'ajbt', 'vot', 'jatq', 'pts', 'azr', 'utb', 'fapt', 'pu', 'f', 'on', 'aotr', 'aoht', 'atmn', 'qaz', 'aon', 'kgat', 'vaet', 'atwu', 'jatx', 'xavt', 'fak', 'aeb', 'ptn', 'aatl', 'qts', 'eag', 'jakt', 'ox', 'geat', 'adft', 'atok', 'xatt', 'tam', 'ytc', 'rtc', 'matz', 'matj', 'rm', 'rata', 'fh', 'jah', 'azs', 'aiqt', 'fate', 'avxt', 'satq', 'adst', 'raw', 'la', 'iaqt', 'axrt', 'datm', 'hst', 'bawt', 'uats', 'afta', 'atso', 'ayte', 'eyat', 'pan', 'owat', 'rta', 'iaf', 'bvat', 'qats', 'hajt', 'etw', 'ptp', 'yk', 'ncat', 'dxt', 'afrt', 'aet', 'atz', 'zb', 'ateu', 'atbn', 'yatc', 'aqst', 'clat', 'iatg', 'rmt', 'asx', 'aiy', 'jaq', 'olat', 'gc', 'atpa', 'hti', 'dtp', 'acdt', 'atap', 'ilt', 'kte', 'gti', 'apti', 'acst', 'baat', 'ntat', 'rakt', 'aztf', 'dax', 'ydt', 'cati', 'nj', 'atgb', 'qi', 'axx', 'mm', 'atww', 'iai', 'watd', 'aty', 'anl', 'qft', 'wta', 'ea', 'bal', 'fgat', 'gaw', 'aati', 'ayst', 'atsf', 'wgt', 'anjt', 'yavt', 'ulat', 'iatc', 'aftd', 'ml', 'iw', 'cg', 'xata', 'hp', 'adtu', 'daw', 'vk', 'atsr', 'av', 'batg', 'arh', 'ahv', 'cnt', 'arzt', 'aftb', 'uts', 'atdg', 'gty', 'asht', 'pj', 'det', 'yz', 'atfo', 'atzv', 'actj', 'abti', 'salt', 'atgt', 'tb', 'oatj', 'atzn', 'abm', 'tapt', 'yate', 'ara', 'azwt', 'ztp', 'qvt', 'fut', 'rmat', 'san', 'cfat', 'alz', 'zj', 'bft', 'aoot', 'pax', 'tt', 'siat', 'alnt', 'uae', 'yav', 'qatf', 'awtj', 'was', 'aytv', 'qf', 'atby', 'ts', 'acyt', 'jht', 'vaat', 'axxt', 'sawt', 'qnt', 'lz', 'tm', 'atxf', 'ash', 'fg', 'ijt', 'atns', 'baet', 'had', 'aoat', 'yao', 'yabt', 'ahtv', 'adtj', 'us', 'zar', 'anvt', 'satt', 'yaet', 'uaft', 'awtl', 'bhat', 'wtt', 'taq', 'ahqt', 'rlt', 'mti', 'argt', 'hatp', 'latl', 'ahth', 'dn', 'raz', 'ahh', 'ig', 'put', 'eagt', 'msat', 'pnt', 'kaj', 'atqc', 'awo', 'tp', 'cu', 'alkt', 'awi', 'mtl', 'iau', 'yqt', 'atr', 'q', 'nats', 'atnm', 'paht', 'cjat', 'hyt', 'ahrt', 'stw', 'azty', 'aiti', 'ault', 'aote', 'atic', 'ufat', 'xtg', 'datg', 'rtu', 'atqd', 'ilat', 'ih', 'ahtq', 'ahb', 'atjx', 'ias', 'jtp', 'atni', 'dah', 'adti', 'kat', 'xdt', 'anth', 'tate', 'azq', 'atqo', 'hhat', 'adtb', 'iaut', 'wj', 'vf', 'nxt', 'atit', 'ql', 'aoo', 'sato', 'oatn', 'jaj', 'awxt', 'patr', 'nty', 'qab', 'ltu', 'takt', 'atqs', 'aste', 'bagt', 'avtj', 'atql', 'oatp', 'azot', 'xr', 'khat', 'adtm', 'ytf', 'uw', 'oy', 'zaft', 'axmt', 'vatd', 'akb', 'sst', 'zaty', 'xar', 'mtat', 'gart', 'akd', 'avot', 'tpa', 'xatn', 'axvt', 'eab', 'vdat', 'iad', 'eait', 'xct', 'ajpt', 'aym', 'actu', 'ztq', 'daxt', 'awst', 'tti', 'hht', 'km', 'awtc', 'amtl', 'xut', 'mmt', 'eap', 'antt', 'war', 'atxz', 'uaty', 'aath', 'vts', 'actw', 'jot', 'adt', 'akg', 'wut', 'oazt', 'akkt', 'acut', 'ahtb', 'hatg', 'faa', 'qato', 'akit', 'awth', 'axgt', 'baxt', 'altb', 'npt', 'fc', 'lts', 'zaa', 'watn', 'attm', 'aad', 'jet', 'anb', 'ctj', 'btg', 'xtp', 'gwat', 'qaa', 'cp', 'dtd', 'not', 'agot', 'lav', 'baqt', 'oa', 'uit', 'ratn', 'las', 'ayq', 'wkat', 'egat', 'aytf', 'gkt', 'apst', 'xab', 'hq', 'avnt', 'saht', 'aftq', 'etz', 'batc', 'mwt', 'yats', 'atzd', 'day', 'saat', 'pst', 'ite', 'apt', 'tha', 'gtt', 'abz', 'jtr', 'ek', 'bap', 'yaut', 'atqt', 'awft', 'qtp', 'avte', 'awtf', 'atcs', 'atra', 'zaj', 'lq', 'dtn', 'qatl', 'os', 'atlu', 'rato', 'bag', 'mqat', 'ny', 'atjv', 'ajat', 'nazt', 'atnb', 'oait', 'fbat', 'yact', 'atof', 'ks', 'oae', 'emat', 'vath', 'htx', 'aes', 'ldat', 'sty', 'txa', 'avtk', 'matp', 'atfb', 'ayf', 'nti', 'ajtb', 'tbat', 'aju', 'adtf', 'gtz', 'uj', 'nsat', 'qart', 'mak', 'adbt', 'jtn', 'atrk', 'ardt', 'cab', 'ear', 'apl', 'atpz', 'aytl', 'dath', 'awrt', 'atbc', 'fw', 'astu', 'atyl', 'uav', 'agxt', 'cpt', 'mar', 'zet', 'eato', 'altt', 'jaut', 'naat', 'iit', 'wrat', 'attd', 'iht', 'kv', 'aog', 'yatw', 'aho', 'aiq', 'zht', 'ss', 'cats', 'yts', 'athi', 'sts', 'qtk', 'vatu', 'atiu', 'ugat', 'stu', 'cn', 'matm', 't', 'zpat', 'aeht', 'eaz', 'zrat', 'aptn', 'vnat', 'irt', 'qact', 'yadt', 'np', 'acbt', 'ajs', 'vatt', 'eawt', 'dan', 'uct', 'atsi', 'itg', 'jxat', 'urat', 'xatu', 'eatg', 'dto', 'aud', 'atua', 'lvt', 'zazt', 'stj', 'nkt', 'ahtm', 'itp', 'aaf', 'amwt', 'twt', 'cut', 'antj', 'afjt', 'artm', 'eft', 'cay', 'naa', 'fcat', 'yo', 'atcp', 'atbw', 'arxt', 'akz', 'iay', 'jatd', 'pgt', 'aeot', 'adq', 'lact', 'rty', 'oh', 'xat', 'fo', 'ray', 'natt', 'lft', 'ett', 'ayj', 'aitp', 'afct', 'do', 'rot', 'oan', 'abk', 'aop', 'lalt', 'ass', 'oata', 'gaxt', 'maz', 'atim', 'atlx', 'nht', 'qot', 'atow', 'baot', 'iot', 'alu', 'aeti', 'atxc', 'akbt', 'ma', 'atwl', 'yx', 'aqat', 'zag', 'atyc', 'uah', 'qyt', 'awtd', 'asts', 'zatn', 'aww', 'atuu', 'ahlt', 'aytr', 'gtf', 'oact', 'wvat', 'oz', 'afty', 'sht', 'fatj', 'pav', 'yaht', 'qd', 'tatd', 'atak', 'rwt', 'xtn', 'etp', 'atkf', 'bant', 'app', 'amtk', 'aoit', 'vak', 'gw', 'bg', 'jaot', 'qlat', 'natr', 'lx', 'latg', 'abh', 'aggt', 'akwt', 'atca', 'aadt', 'atpn', 'aos', 'acd', 'atrd', 'atux', 'rajt', 'arst', 'kac', 'dvat', 'ctt', 'ivat', 'anh', 'artz', 'kty', 'ajth', 'acv', 'iatd', 'zc', 'dtg', 'agn', 'axtu', 'ajg', 'bht', 'rht', 'abtz', 'aek', 'tatb', 'xaw', 'uai', 'atar', 'hau', 'qgt', 'atfc', 'io', 'amtr', 'frt', 'pam', 'azo', 'dagt', 'abtu', 'mc', 'axkt', 'aqmt', 'adh', 'rant', 'aqz', 'malt', 'tn', 'ahl', 'bot', 'amtj', 'rst', 'atup', 'atmp', 'zatr', 'jta', 'anj', 'aztp', 'xtj', 'abrt', 'stv', 'ratm', 'atkv', 'or', 'iu', 'atdw', 'rct', 'qn', 'ro', 'qas', 'ip', 'oath', 'faq', 'afa', 'oatr', 'aztm', 'wft', 'atyb', 'aatj', 'mfat', 'xit', 'hfat', 'axo', 'xg', 'ani', 'fab', 'ztf', 'apq', 'asn', 'yy', 'wart', 'apo', 'exat', 'amj', 'ablt', 'atez', 'adtp', 'ayx', 'ajht', 'abot', 'bath', 'ztm', 'atos', 'aqte', 'zt', 'jaht', 'hatj', 'awqt', 'ets', 'trat', 'atam', 'iv', 'tabt', 'patu', 'atfm', 'awv', 'aftx', 'eq', 'aktg', 'ymt', 'azk', 'askt', 'qjt', 'atoa', 'ajyt', 'cpat', 'iaot', 'uam', 'atgy', 'ayk', 'matl', 'hgt', 'aci', 'dtf', 'nfat', 'zad', 'atzj', 'xpat', 'amgt', 'batn', 'cyat', 'aftt', 'aagt', 'stn', 'actl', 'baut', 'ntz', 'atgg', 'iatm', 'xajt', 'utv', 'jiat', 'xlt', 'afo', 'artc', 'aetl', 'datc', 'uad', 'mtm', 'rj', 'kayt', 'daq', 'gtg', 'bab', 'tatw', 'xta', 'atbs', 'gas', 'aoto', 'acta', 'atj', 'wuat', 'rv', 'adr', 'gatq', 'atv', 'vatw', 'batd', 'mk', 'he', 'arta', 'zatf', 'atzh', 'naqt', 'atka', 'asgt', 'fd', 'yamt', 'aptb', 'aetn', 'autk', 'atot', 'atfh', 'qatu', 'onat', 'atis', 'emt', 'wsat', 'alzt', 'altn', 'etl', 'jabt', 'icat', 'afz', 'uaht', 'ntj', 'tkt', 'ktv', 'nal', 'krt', 'oaot', 'zm', 'ateo', 'ntd', 'sm', 'ajtx', 'astm', 'aftr', 'qwt', 'patv', 'ahg', 'laf', 'ajk', 'wajt', 'mrt', 'adth', 'veat', 'axs', 'rak', 'cqat', 'afts', 'ivt', 'qtf', 'bto', 'gth', 'actr', 'lkt', 'tya', 'hvat', 'qe', 'afyt', 'kajt', 'atoi', 'vart', 'katq', 'avzt', 'jn', 'zait', 'aba', 'axtq', 'it', 'ktt', 'aji', 'atlp', 'omat', 'paf', 'mvt', 'ste', 'atth', 'aaht', 'btz', 'eamt', 'gt', 'acet', 'vbt', 'yeat', 'eax', 'tta', 'avd', 'lagt', 'zft', 'atoq', 'athw', 'jeat', 'arf', 'irat', 'atxp', 'atkk', 'qta', 'lait', 'zty', 'aat', 'ajr', 'ry', 'bah', 'afit', 'iz', 'fth', 'and', 'abtx', 'auth', 'xgt', 'uait', 'bav', 'kab', 'sti', 'vta', 'qatt', 'btat', 'upat', 'waf', 'nata', 'pata', 'matr', 'aai', 'cata', 'aort', 'ctl', 'prt', 'natc', 'xzt', 'atwy', 'ntr', 'pakt', 'mgt', 'avtq', 'atkq', 'akm', 'arwt', 'ahtg', 'lb', 'bzat', 'mdat', 'kaet', 'aoet', 'nqt', 'awvt', 'faut', 'atqi', 'yd', 'atsj', 'ravt', 'zi', 'axtr', 'zqat', 'qaet', 'mpt', 'pas', 'aqtu', 'axz', 'vxat', 'eaa', 'aoft', 'awtq', 'arnt', 'ana', 'klt', 'lzt', 'uact', 'ae', 'aotj', 'mn', 'attp', 'alj', 'ktc', 'kta', 'tfa', 'qatp', 'matn', 'cxat', 'oj', 'gant', 'autf', 'ako', 'oatc', 'edat', 'ade', 'astg', 'aih', 'fmat', 'vtl', 'eaty', 'atkd', 'uayt', 'tty', 'kfat', 'xz', 'ujt', 'kag', 'aitz', 'qzt', 'oatm', 'git', 'aukt', 'adtg', 'agtj', 'aof', 'axj', 'qtw', 'xt', 'ajjt', 'aujt', 'fatu', 'cast', 'aumt', 'paft', 'raat', 'atct', 'xamt', 'amta', 'azb', 'acq', 'bnat', 'aatz', 'patn', 'aotx', 'lfat', 'let', 'ata', 'saft', 'natf', 'jmat', 'alq', 'bt', 'ayyt', 'jrat', 'atzl', 'gi', 'oe', 'paz', 'kx', 'cag', 'wazt', 'rr', 'nabt', 'zadt', 'nts', 'satj', 'gcat', 'axh', 'atgo', 'ftw', 'anpt', 'bmat', 'cao', 'uto', 'pfat', 'aptt', 'air', 'ntw', 'atce', 'etk', 'akgt', 'latx', 'alet', 'aptk', 'max', 'mj', 'aewt', 'gtv', 'lmat', 'nadt', 'kut', 'matd', 'jh', 'sart', 'kkt', 'qazt', 'qtd', 'obt', 'auu', 'lap', 'ekat', 'atwm', 'baf', 'eb', 'adu', 'atf', 'xuat', 'ixt', 'nawt', 'atrf', 'zh', 'amd', 'yaz', 'atip', 'apot', 'xate', 'ity', 'amat', 'angt', 'dao', 'gr', 'wxt', 'latp', 'kg', 'attc', 'atgi', 'avtl', 'hatt', 'fdt', 'tawt', 'agtf', 'fdat', 'abqt', 'aite', 'atpc', 'rl', 'aik', 'rte', 'aetb', 'fu', 'zatp', 'abgt', 'qawt', 'atqb', 'amq', 'axty', 'atrx', 'aiot', 'yyat', 'atlz', 'avtc', 'lay', 'abtn', 'l', 'cavt', 'paa', 'lv', 'mq', 'azmt', 'atsz', 'dlt', 'ttr', 'atmx', 'ajd', 'apyt', 'fta', 'aha', 'jai', 'tla', 'jw', 'mtv', 'jcat', 'atzy', 'tkat', 'zgat', 'tte', 'apit', 'rg', 'avtz', 'amm', 'satr', 'gatg', 'gj', 'bac', 'xw', 'attk', 'atcy', 'aizt', 'gvat', 'vzt', 'atsu', 'z', 'actn', 'sc', 'altq', 'aldt', 'antu', 'vtt', 'augt', 'artw', 'srat', 'ajmt', 'tait', 'aift', 'aro', 'qt', 'atyd', 'past', 'ux', 'batt', 'aey', 'natq', 'vae', 'frat', 'eut', 'abj', 'ntv', 'aktm', 'xatk', 'tl', 'hsat', 'oyt', 'avn', 'yto', 'kto', 'aqw', 'zmat', 'ama', 'awtn', 'ftz', 'biat', 'xant', 'atyk', 'natg', 'tva', 'avt', 'altg', 'dau', 'adx', 'cax', 'aont', 'fatb', 'jzat', 'rtat', 'rjat', 'avtd', 'cabt', 'alo', 'uaqt', 'ayl', 'aqvt', 'iqt', 'mh', 'ahht', 'hatz', 'fats', 'atkc', 'umat', 'hant', 'ztat', 'ns', 'iaz', 'sn', 'ze', 'jag', 'pal', 'wq', 'nyt', 'yuat', 'hart', 'apwt', 'lati', 'ag', 'am', 'atzf', 'aod', 'jlt', 'oo', 'nx', 'syt', 'nast', 'ttq', 'atcu', 'hy', 'mxt', 'atkz', 'otb', 'ne', 'bgat', 'xao', 'db', 'aust', 'nn', 'ki', 'm', 'saj', 'oar', 'atvx', 'jtq', 'vyat', 'auts', 'vatp', 'amht', 'vaa', 'astv', 'aent', 'wlat', 'azdt', 'nrat', 'vjt', 'atur', 'amvt', 'jac', 'xl', 'utw', 'atla', 'qakt', 'umt', 'kath', 'atte', 'ate', 'ng', 'eatm', 'atvh', 'iatu', 'hv', 'datz', 'bz', 'atgs', 'japt', 'caft', 'tea', 'haty', 'atbl', 'ert', 'awm', 'oyat', 'itc', 'oxat', 'auzt', 'lot', 'aqb', 'tjat', 'jv', 'akte', 'aax', 'ej', 'sae', 'palt', 'patj', 'cy', 'jaqt', 'zo', 'stq', 'adn', 'avtn', 'yata', 'rc', 'atep', 'uax', 'athj', 'dte', 'wc', 'ayty', 'ratx', 'qet', 'w', 'fst', 'avtm', 'xi', 'yaxt', 'suat', 'jzt', 'aeit', 'gtw', 'aktt', 'anp', 'qhat', 'vuat', 'htz', 'atl', 'rsat', 'awt', 'artl', 'dti', 'afw', 'stt', 'atyi', 'that', 'luat', 'aqyt', 'vatn', 'amu', 'zzt', 'kf', 'wy', 'inat', 'hj', 'ajgt', 'wx', 'yatt', 'bate', 'avkt', 'ahu', 'wxat', 'vti', 'atat', 'eatl', 'ars', 'car', 'pft', 'atd', 'alv', 'rd', 'ayut', 'axot', 'gao', 'bam', 'zaxt', 'ayts', 'u', 'fuat', 'eaut', 'gtj', 'abtp', 'ateg', 'aptr', 'altd', 'adut', 'rab', 'qatq', 'qatd', 'hn', 'sbat', 'pgat', 'atjj', 'ayft', 'catk', 'sats', 'ftj', 'abts', 'sj', 'abt', 'atfw', 'atei', 'cz', 'atsp', 'ari', 'aatk', 'jsat', 'hats', 'crat', 'aait', 'vut', 'avq', 'abtf', 'ras', 'atbv', 'armt', 'fpat', 'aiw', 'avut', 'lavt', 'vats', 'dai', 'abyt', 'atch', 'avi', 'agzt', 'qrt', 'ozt', 'aem', 'agtl', 'wae', 'aktn', 'btq', 'jqt', 'alh', 'atob', 'atoe', 'jatr', 'athf', 'ahjt', 'hlat', 'ptb', 'pvt', 'sfat', 'ave', 'waet', 'atxv', 'zk', 'batb', 'htt', 'ef', 'itu', 'atvy', 'ew', 'xaty', 'athy', 'ku', 'aykt', 'napt', 'anxt', 'abtv', 'wtx', 'amit', 'ucat', 'awtx', 'atud', 'vavt', 'avst', 'baty', 'gac', 'beat', 'vlat', 'dr', 'batp', 'natx', 'atyu', 'rtd', 'ztz', 'vkat', 'amty', 'ahwt', 'agb', 'sqat', 'aen', 'va', 'gtat', 'aftk', 'aact', 'aest', 'kao', 'qatc', 'fjat', 'iatb', 'alqt', 'vtc', 'xzat', 'azf', 'jait', 'dct', 'amc', 'xv', 'aqjt', 'saty', 'aotw', 'bqat', 'afft', 'allt', 'neat', 'yalt', 'may', 'aekt', 'cc', 'uhat', 'gatp', 'nai', 'oast', 'atwe', 'hatq', 'aotv', 'dkat', 'avz', 'kst', 'arpt', 'wto', 'ratj', 'ebt', 'axtj', 'awp', 'htw', 'py', 'be', 'kc', 'mao', 'uh', 'qate', 'ayo', 'ftn', 'qam', 'agta', 'atxd', 'xatc', 'patx', 'dit', 'otat', 'azpt', 'ajit', 'ewat', 'taw', 'aao', 'g', 'alte', 'iak', 'atzo', 'abat', 'ambt', 'autw', 'hm', 'aoyt', 'catl', 'acc', 'caz', 'axat', 'nl', 'egt', 'hf', 'vaf', 'pkt', 'fato', 'atxk', 'htl', 'pg', 'atgx', 'jq', 'catq', 'oagt', 'tab', 'tqat', 'afht', 'path', 'atev', 'jaxt', 'wi', 'fatg', 'atre', 'cth', 'haat', 'ebat', 'snt', 'agpt', 'atrq', 'dab', 'mat', 'eaht', 'hi', 'aubt', 'atyp', 'jajt', 'ntm', 'aztd', 'iy', 'arkt', 'jyat', 'lvat', 'vav', 'ra', 'ahtc', 'sal', 'akyt', 'gal', 'lg', 'gai', 'eaat', 'sajt', 'rast', 'qte', 'tbt', 'wo', 'ott', 'rtj', 'ttb', 'layt', 'xrt', 'vakt', 'xqat', 'atrz', 'abkt', 'my', 'pvat', 'atpk', 'jatb', 'atai', 'cap', 'aar', 'atwh', 'xn', 'gu', 'adot', 'laft', 'jfat', 'pxat', 'atac', 'ayqt', 'mae', 'sw', 'attz', 'bai', 'zf', 'taat', 'fatt', 'tmat', 'latt', 'atqf', 'atzm', 'waft', 'fb', 'iatr', 'itm', 'atfe', 'uatu', 'hdat', 'axdt', 'atcz', 'zgt', 'adet', 'pqt', 'atgd', 'hw', 'kamt', 'lrat', 'roat', 'pct', 'btr', 'atoz', 'arti', 'pamt', 'dty', 'gnat', 'jbat', 'satx', 'ado', 'aus', 'qs', 'aetr', 'aoj', 'oaj', 'eti', 'hae', 'uau', 'htb', 'avx', 'date', 'adtd', 'jae', 'altx', 'jty', 's', 'amts', 'eate', 'aiz', 'aebt', 'lal', 'axts', 'aug', 'abut', 'fit', 'pzt', 'are', 'fav', 'atxa', 'xst', 'acf', 'ptl', 'atbq', 'atdv', 'aext', 'jamt', 'jau', 'tma', 'awb', 'otr', 'atms', 'itj', 'oai', 'xatw', 'oatw', 'gact', 'mit', 'axtp', 'awpt', 'atsy', 'rx', 'aket', 'ntq', 'bte', 'atnh', 'oatt', 'aif', 'maat', 'agk', 'vgat', 'aetk', 'vto', 'oatb', 'awlt', 'fqt', 'fae', 'ent', 'ltq', 'hjt', 'qpat', 'ytb', 'jtz', 'wau', 'qtu', 'vagt', 'axtg', 'du', 'atve', 'atrh', 'atvb', 'bjat', 'vb', 'apmt', 'natj', 'ztk', 'liat', 'aqtv', 'datt', 'sai', 'hkat', 'dat', 'atge', 'ypat', 'aawt', 'atbr', 'wl', 'gk', 'amot', 'aoa', 'watz', 'atfu', 'hai', 'od', 'rxat', 'azut', 'mwat', 'ahtz', 'attq', 'awto', 'aqq', 'vai', 'alm', 'ktat', 'atdc', 'oqt', 'vtx', 'fam', 'pl', 'saa', 'pai', 'as', 'ayct', 'nxat', 'atpt', 'aqxt', 'atds', 'atlf', 'akot', 'ynat', 'artg', 'amlt', 'zagt', 'aup', 'agtq', 'ajl', 'vth', 'qatn', 'sar', 'bats', 'ahy', 'jft', 'rb', 'awty', 'atjr', 'auft', 'iakt', 'apbt', 'pay', 'atfq', 'gaz', 'if', 'actk', 'sgat', 'atws', 'otc', 'gaq', 'mr', 'llt', 'atyr', 'xqt', 'aeta', 'yxt', 'fwat', 'nath', 'artq', 'satd', 'asta', 'akft', 'atss', 'bata', 'zatz', 'ybat', 'atvq', 'eayt', 'ayht', 'aks', 'ahxt', 'bbt', 'zae', 'ctf', 'atbz', 'yah', 'ztg', 'iadt', 'bxt', 'dbt', 'omt', 'uiat', 'tsa', 'ctk', 'otq', 'rait', 'vaut', 'jtd', 'atae', 'ajft', 'nt', 'atsc', 'aikt', 'aam', 'anty', 'atbj', 'zap', 'oatu', 'x', 'tax', 'kap', 'ahta', 'seat', 'zatb', 'ytk', 'asq', 'atu', 'anqt', 'rtn', 'aytt', 'ajtd', 'jatv', 'qti', 'ia', 'mrat', 'tka', 'btw', 'katj', 'gtr', 'mjat', 'auxt', 'alty', 'wtr', 'ratg', 'dl', 'zxat', 'wm', 'sao', 'atgr', 'iaat', 'aoti', 'amyt', 'cate', 'aotq', 'ixat', 'ktf', 'ataf', 'ltk', 'tak', 'daut', 'aalt', 'aiit', 'hit', 'yi', 'wath', 'fatk', 'tga', 'agh', 'atiq', 'aeut', 'ykat', 'ev', 'iait', 'atml', 'aztj', 'ktj', 'xaf', 'htg', 'axtb', 'nv', 'batl', 'dajt', 'artx', 'hatf', 'gx', 'laot', 'aktc', 'aoty', 'ajtl', 'atsh', 'kdat', 'dlat', 'anot', 'ec', 'dz', 'patl', 'autz', 'tagt', 'qant', 'rw', 'aktx', 'oct', 'aftj', 'hbat', 'hu', 'peat', 'atco', 'zte', 'vtu', 'mapt', 'antv', 'abi', 'baw', 'atro', 'nah', 'aatq', 'atzt', 'axnt', 'dtat', 'amtm', 'gst', 'laut', 'de', 'ikt', 'auti', 'antq', 'xnat', 'atmj', 'px', 'stf', 'fl', 'b', 'yj', 'abx', 'lo', 'ualt', 'xwat', 're', 'anx', 'avrt', 'eg', 'atag', 'gqat', 'yakt', 'oatl', 'amp', 'wf', 'caty', 'zvat', 'aqta', 'ftat', 'fn', 'yjt', 'yatr', 'arth', 'etq', 'lata', 'ktz', 'dqt', 'ruat', 'yam', 'arqt', 'arm', 'lhat', 'qaot', 'dot', 'ooat', 'atzq', 'rlat', 'athh', 'asrt', 'aitt', 'watw', 'zlat', 'raut', 'aynt', 'anc', 'aoh', 'tqa', 'xagt', 'sa', 'iav', 'atgj', 'gct', 'uar', 'uaa', 'afg', 'jtc', 'ktq', 'aew', 'uatf', 'atgv', 'agi', 'anw', 'aptu', 'axg', 'akty', 'atph', 'anht', 'gakt', 'yar', 'uxat', 'abn', 'amtu', 'pato', 'mdt', 'fnt', 'atvu', 'auo', 'zaqt', 'aka', 'bwt', 'uaq', 'jata', 'fau', 'say', 'atqm', 'plat', 'tae', 'id', 'amut', 'sac', 'sapt', 'aplt', 'uan', 'bak', 'xtz', 'avyt', 'aiwt', 'maf', 'wayt', 'nav', 'atde', 'bi', 'qatv', 'wjat', 'math', 'awet', 'reat', 'atfg', 'atgw', 'badt', 'orat', 'fatw', 'oax', 'akct', 'datk', 'attx', 'aats', 'oiat', 'atue', 'akr', 'wdt', 'natp', 'kzt', 'xti', 'goat', 'asdt', 'ftt', 'pbat', 'taot', 'acm', 'aub', 'uast', 'kpt', 'gah', 'mart', 'ale', 'agat', 'atmq', 'mtt', 'amtd', 'zav', 'adj', 'akxt', 'gnt', 'aitn', 'actg', 'buat', 'vatr', 'acth', 'ahtt', 'sax', 'atqa', 'atij', 'aqk', 'atsv', 'epat', 'ahdt', 'asqt', 'eaft', 'attu', 'eta', 'abjt', 'abpt', 'patc', 'atjl', 'nact', 'oqat', 'itt', 'flat', 'ff', 'tra', 'spt', 'gtn', 'acu', 'ith', 'vabt', 'atlq', 'lgat', 'astq', 'agts', 'xati', 'pae', 'nq', 'wvt', 'eatx', 'law', 'ahtu', 'afy', 'audt', 'fan', 'artv', 'atil', 'acgt', 'twa', 'satk', 'atbo', 'bkt', 'ky', 'kct', 'y', 'v', 'acj', 'hast', 'raj', 'ob', 'qkat', 'glt', 'vn', 'avtf', 'atom', 'jnat', 'mavt', 'abtb', 'ctat', 'mzt', 'zast', 'moat', 'ajot', 'qut', 'afh', 'apta', 'aqt', 'yai', 'atjd', 'lsat', 'aqut', 'athp', 'kazt', 'atsn', 'azc', 'atjt', 'atqv', 'asot', 'xj', 'maty', 'katn', 'ri', 'eatu', 'xai', 'athc', 'jart', 'haq', 'vapt', 'ghat', 'aght', 'avft', 'wav', 'vft', 'aotc', 'aqtw', 'ratr', 'hlt', 'astt', 'atnk', 'qq', 'agte', 'jct', 'atnp', 'vatj', 'gvt', 'aor', 'auwt', 'ys', 'iato', 'vatg', 'ztr', 'atnt', 'attb', 'wte', 'atji', 'xtu', 'fata', 'prat', 'we', 'bbat', 'ck', 'lac', 'gzat', 'aktk', 'loat', 'apte', 'ang', 'adtc', 'artu', 'agmt', 'aita', 'eath', 'ic', 'bad', 'atma', 'anm', 'axft', 'ju', 'ttu', 'wtm', 'ayz', 'ga', 'aze', 'watc', 'nan', 'aom', 'mazt', 'satn', 'aid', 'zaat', 'vajt', 'awf', 'waot', 'caa', 'qwat', 'lak', 'ratc', 'jrt', 'wwat', 'xazt', 'uxt', 'ay', 'ahpt', 'aflt', 'attf', 'oth', 'yet', 'atva', 'mal', 'azht', 'aln', 'adtw', 'oatq', 'asat', 'altj', 'fot', 'cr', 'ates', 'hab', 'itl', 'cxt', 'vaty', 'avth', 'axyt', 'far', 'jtg', 'sati', 'atrt', 'arut', 'haot', 'kaqt', 'utq', 'qtc', 'atjz', 'bet', 'rar', 'atdj', 'atmu', 'paq', 'azt', 'aotl', 'aztz', 'atrb', 'atnr', 'latb', 'kjt', 'kw', 'paxt', 'katw', 'kbt', 'ahs', 'sot', 'atwv', 'ieat', 'ateq', 'qtg', 'nyat', 'atum', 'atvv', 'alst', 'ataa', 'xak', 'athx', 'ajta', 'naut', 'iatl', 'atho', 'atpm', 'sjt', 'uqat', 'rats', 'antg', 'bajt', 'vtp', 'athk', 'iajt', 'atvm', 'cty', 'ubt', 'wpt', 'dtq', 'attl', 'gazt', 'kqat', 'catv', 'agtx', 'kact', 'xabt', 'otl', 'pd', 'batr', 'wth', 'eam', 'oat', 'iagt', 'mawt', 'caq', 'raft', 'atmi', 'unt', 'uaut', 'eh', 'hatm', 'ayjt', 'par', 'paw', 'zatw', 'tdat', 'astw', 'hapt', 'xax', 'artj', 'atna', 'feat', 'haxt', 'actq', 'ksat', 'avb', 'aqr', 'azu', 'kft', 'awtg', 'maet', 'xaht', 'uvt', 'wtk', 'zlt', 'vpt', 'atnl', 'adm', 'oam', 'arp', 'htc', 'arz', 'athm', 'aotb', 'atel', 'qaat', 'arn', 'gav', 'qal', 'ajlt', 'atau', 'asit', 'afj', 'cac', 'sata', 'an', 'aktj', 'aztv', 'aztr', 'hatb', 'mt', 'qati', 'latn', 'rat', 'tatn', 'otm', 'aqu', 'bmt', 'ayta', 'gatx', 'a', 'in', 'tg', 'yzt', 'aqti', 'eatz', 'api', 'isat', 'ayu', 'qagt', 'batu', 'jad', 'atdm', 'wam', 'tda', 'lmt', 'eeat', 'cagt', 'ajz', 'all', 'smt', 'ed', 'vo', 'atzr', 'oti', 'namt', 'ahft', 'gate', 'acl', 'ap', 'patz', 'fjt', 'btn', 'ctv', 'has', 'eah', 'paot', 'atmh', 'aytp', 'vh', 'jaz', 'aetq', 'yrt', 'zats', 'zxt', 'uqt', 'gayt', 'aoqt', 'ayb', 'uart', 'man', 'etx', 'rrt', 'aect', 'ean', 'jl', 'auqt', 'ntu', 'sag', 'wah', 'hrt', 'amr', 'qalt', 'ajc', 'pau', 'abl', 'mw', 'gaj', 'aftz', 'aztl', 'gtk', 'zaut', 'atga', 'rtw', 'atll', 'atqw', 'ltd', 'aten', 'zan', 'aw', 'hati', 'jst', 'ajqt', 'atzu', 'ztl', 'haht', 'oalt', 'aotf', 'gpt', 'mast', 'autn', 'aatx', 'kn', 'awkt', 'gdat', 'avgt', 'alvt', 'aftg', 'azy', 'wjt', 'aatc', 'raf', 'aim', 'axv', 'otu', 'tac', 'saqt', 'jazt', 'aeo', 'aztb', 'vtw', 'skat', 'nar', 'hdt', 'di', 'acat', 'aets', 'mcat', 'cant', 'aftp', 'lpt', 'izt', 'ui', 'ont', 'jar', 'jhat', 'anit', 'sgt', 'atxj', 'cm', 'ktu', 'vatz', 'lant', 'apj', 'zoat', 'zwat', 'hawt', 'asmt', 'atoc', 'kan', 'yaft', 'fah', 'ipat', 'aoz', 'aqy', 'waat', 'pc', 'atm', 'axc', 'haft', 'vatv', 'eal', 'ttm', 'art', 'ctu', 'atih', 'otv', 'aqbt', 'anv', 'val', 'atrs', 'ctc', 'bl', 'catx', 'net', 'utc', 'trt', 'ud', 'vty', 'abty', 'atbg', 'aeu', 'qay', 'but', 'altf', 'atfa', 'qk', 'tz', 'xts', 'jadt', 'gaot', 'vp', 'stp', 'aft', 'ajv', 'noat', 'cit', 'atzc', 'natn', 'jy', 'jit', 'atnu', 'ataq', 'atui', 'autd', 'aytj', 'qtq', 'adyt', 'adtn', 'ami', 'ctd', 'agbt', 'cad', 'unat', 'afat', 'xtc', 'agv', 'eaxt', 'aidt', 'iaj', 'atyj', 'afp', 'dant', 'attn', 'aqtz', 'ltb', 'zayt', 'aeat', 'akq', 'uk', 'dar', 'adlt', 'eyt', 'nax', 'maft', 'ib', 'syat', 'kak', 'atyf', 'avf', 'gati', 'ptf', 'dait', 'pcat', 'autr', 'hwt', 'qsat', 'dabt', 'atwt', 'skt', 'yhat', 'atp', 'avp', 'aunt', 'yap', 'qatk', 'jatn', 'xtd', 'ajtm', 'aitv', 'aszt', 'wawt', 'bth', 'pbt', 'kart', 'alw', 'aslt', 'deat', 'kyt', 'taut', 'rs', 'gatm', 'aclt', 'ktd', 'actp', 'aqnt', 'atuj', 'qatr', 'af', 'atno', 'antf', 'yatk', 'atxg', 'kaht', 'agwt', 'sxat', 'ot', 'atny', 'alto', 'yte', 'iath', 'atmf', 'qc', 'btd', 'actv', 'afwt', 'hax', 'aje', 'anet', 'uabt', 'sdt', 'eapt', 'zx', 'rzt', 'lw', 'jaet', 'vxt', 'vaxt', 'aato', 'avy', 'gtq', 'nakt', 'altc', 'gax', 'xjat', 'cajt', 'bx', 'wak', 'uatw', 'atxo', 'atub', 'nw', 'yst', 'tact', 'adf', 'aqot', 'otd', 'kas', 'spat', 'abtj', 'bxat', 'wty', 'aatb', 'rbat', 'aeqt', 'wtf', 'van', 'amxt', 'atgc', 'akpt', 'aqkt', 'klat', 'apkt', 'amtf', 'saq', 'latw', 'paj', 'ahr', 'ygat', 'jawt', 'yazt', 'qrat', 'acft', 'atrw', 'mtc', 'atrm', 'fwt', 'dut', 'iaty', 'var', 'hg', 'naw', 'hyat', 'atdu', 'zab', 'dtc', 'xatb', 'zaf', 'havt', 'adtz', 'sqt', 'catn', 'ue', 'qlt', 'awjt', 'yft', 'ka', 'gatf', 'dtw', 'ppat', 'uatl', 'amtb', 'tag', 'aby', 'awat', 'xah', 'utk', 'ytu', 'alwt', 'kcat', 'naot', 'hay', 'abxt', 'oatx', 'azxt', 'atyg', 'atdz', 'otw', 'psat', 'azzt', 'arl', 'fatx', 'avu', 'yas', 'bpt', 'odt', 'arot', 'atto', 'dtk', 'ywt', 'rati', 'xcat', 'jz', 'atrr', 'qzat', 'ayzt', 'aetu', 'catc', 'athb', 'aetx', 'ctm', 'aost', 'ul', 'ataw', 'vatk', 'ntb', 'jatz', 'foat', 'atvw', 'awl', 'nak', 'aql', 'xatg', 'ndt', 'ragt', 'sh', 'yfat', 'yr', 'gatb', 'cti', 'aton', 'tpt', 'kal', 'atg', 'sth', 'stm', 'ztu', 'caw', 'atxe', 'eao', 'dal', 'ylat', 'nm', 'ajh', 'atet', 'aatn', 'uf', 'iart', 'qty', 'aptc', 'oaty', 'owt', 'tan', 'tadt', 'aftn', 'utd', 'cawt', 'atpd', 'ptd', 'mbat', 'zaq', 'kaat', 'rtt', 'pta', 'naty', 'attj', 'atdx', 'gs', 'nayt', 'sb', 'latj', 'rart', 'aytu', 'tvt', 'oapt', 'bd', 'lag', 'rate', 'lto', 'magt', 'ttp', 'itz', 'hoat', 'watq', 'qdat', 'atjn', 'iatp', 'doat', 'aswt', 'vatx', 'astk', 'atc', 'ln', 'raxt', 'ayy', 'adht', 'avvt', 'latr', 'aeet', 'nk', 'rt', 'aryt', 'yan', 'ants', 'cal', 'vate', 'bato', 'mtq', 'ajtu', 'zjat', 'anzt', 'dth', 'svt', 'iti', 'cam', 'itv', 'aytn', 'atcj', 'kht', 'akto', 'qg', 'rtf', 'qqat', 'kau', 'hate', 'najt', 'zate', 'xam', 'wh', 'lart', 'atsx', 'ov', 'rtm', 'axit', 'pet', 'utat', 'zsat', 'xapt', 'xatm', 'vm', 'jjt', 'ttz', 'nc', 'yaot', 'iiat', 'atbi', 'altr', 'xvat', 'tatv', 'tatg', 'ddat', 'kb', 'pah', 'atbt', 'atik', 'ti', 'atav', 'agrt', 'atln', 'atyv', 'atyy', 'alrt', 'agtm', 'drat', 'bn', 'vtj', 'ect', 'aaj', 'atvk', 'aibt', 'xal', 'patb', 'yac', 'daat', 'axf', 'aitx', 'tatm', 'sam', 'zbat', 'avdt', 'gqt', 'qav', 'mtk', 'tja', 'atyo', 'vtv', 'ym', 'asz', 'hav', 'dawt', 'aazt', 'actz', 'atng', 'xdat', 'tatz', 'atfz', 'awte', 'ajtg', 'ttw', 'acmt', 'bqt', 'lath', 'zamt', 'alta', 'awtr', 'aag', 'iet', 'aeyt', 'md', 'catz', 'qavt', 'iatj', 'usat', 'fbt', 'aib', 'ltn', 'nut', 'maot', 'ytp', 'xp', 'yty', 'wato', 'atfr', 'ujat', 'xas', 'athq', 'gp', 'zp', 'wabt', 'vtz', 'aklt', 've', 'ajte', 'tau', 'ioat', 'acte', 'zw', 'atcn', 'atcl', 'yat', 'laqt', 'catd', 'atnj', 'amk', 'fsat', 'avta', 'asl', 'aett', 'auty', 'fad', 'sy', 'o', 'haa', 'ygt', 'bae', 'can', 'natv', 'xatr', 'daz', 'nao', 'davt', 'mact', 'xhat', 'laet', 'ptk', 'oet', 'xart', 'kaot', 'vatm', 'fatv', 'amtc', 'yxat', 'mamt', 'sat', 'dd', 'aitg', 'atoo', 'aeh', 'adv', 'xgat', 'faw', 'eot', 'jtu', 'hap', 'katm', 'cas', 'qtj', 'uatk', 'lqt', 'eats', 'ayw', 'aoi', 'tar', 'aqlt', 'autt', 'akmt', 'naet', 'autu', 'zit', 'atwg', 'ann', 'dx', 'azgt', 'hnt', 'eoat', 'nnt', 'azqt', 'aptl', 'kawt', 'afnt', 'yatb', 'fqat', 'gy', 'ytl', 'avat', 'aatp', 'yut', 'atxl', 'agtv', 'oavt', 'pmt', 'datj', 'qau', 'apv', 'xad', 'atvp', 'toat', 'maqt', 'ktw', 'vhat', 'atdh', 'fz', 'vati', 'akts', 'bar', 'aaqt', 'astn', 'hte', 'ban', 'atlw', 'akk', 'rwat', 'wtv', 'agtp', 'pit', 'uadt', 'katb', 'yt', 'got', 'katt', 'saw', 'atuh', 'qth', 'vt', 'sagt', 'bq', 'latd', 'abet', 'adqt', 'aotg', 'apn', 'qxat', 'iam', 'laxt', 'qatx', 'osat', 'yath', 'atbm', 'ator', 'zta', 'apgt', 'ajct', 'qct', 'xast', 'atlh', 'rax', 'met', 'avts', 'atjp', 'rawt', 'atyz', 'amtp', 'taft', 'ltx', 'phat', 'ahe', 'jayt', 'nab', 'amtw', 'jp', 'ahj', 'zyat', 'jatm', 'altl', 'atja', 'uant', 'zatk', 'ladt', 'adrt', 'fazt', 'kapt', 'aths', 'vaz', 'dta', 'awtm', 'axm', 'vq', 'int', 'zdat', 'ajvt', 'aaz', 'wtl', 'aio', 'bavt', 'cto', 'btj', 'jxt', 'fm', 'rkt', 'se', 'fto', 'rap', 'radt', 'adb', 'ntp', 'ahmt', 'aygt', 'data', 'mpat', 'oaq', 'cte', 'ffat', 'ajq', 'abmt', 'atmr', 'qaut', 'aktw', 'ajj', 'szt', 'ajtz', 'atey', 'ba', 'fatr', 'atkg', 'aqts', 'lato', 'atwz', 'xyat', 'kjat', 'gatt', 'atia', 'ayet', 'aqht', 'latc', 'akqt', 'datx', 'natd', 'akst', 'abht', 'ajtc', 'rtx', 'oatd', 'afet', 'gamt', 'atqp', 'utn', 'dati', 'iavt', 'arjt', 'damt', 'atly', 'atcd', 'auta', 'tgt', 'atcr', 'atnz', 'atou', 'azg', 'hr', 'xap', 'tr', 'fj', 'ahtr', 'apnt', 'oadt', 'atvc', 'athn', 'hth', 'dapt', 'amct', 'qatz', 'sath', 'aqtm', 'zcat', 'yax', 'sr', 'qaf', 'atgm', 'aaxt', 'gmt', 'aiu', 'atal', 'qxt', 'puat', 'vdt', 'agtw', 'aztq', 'latf', 'maw', 'tav', 'wata', 'aps', 'atsm', 'iate', 'eet', 'tza', 'jatj', 'lau', 'tata', 'aol', 'oas', 'atcq', 'fct', 'asb', 'eqat', 'atif', 'abtm', 'fs', 'dadt', 'atdd', 'axte', 'jk', 'auv', 'qv', 'vap', 'uay', 'caet', 'latk', 'mvat', 'dg', 'amdt', 'ratb', 'ftc', 'almt', 'athv', 'tft', 'kxt', 'jqat', 'arlt', 'eatc', 'atqx', 'watg', 'arht', 'madt', 'tct', 'ndat', 'ddt', 'zatl', 'wap', 'atgq', 'afl', 'atek', 'nvt', 'dkt', 'otz', 'zau', 'pao', 'djat', 'kam', 'gaut', 'un', 'rnt', 'sz', 'utm', 'xo', 'oatf', 'jmt', 'axd', 'dzat', 'oav', 'mav', 'aqtq', 'dft', 'ntc', 'qai', 'batx', 'arbt', 'axtc', 'aqh', 'nst', 'amw', 'patq', 'vy', 'aevt', 'ataz', 'bast', 'aztu', 'axk', 'agft', 'aetc', 'yaw', 'wfat', 'wmt', 'daty', 'azlt', 'acti', 'matf', 'itq', 'woat', 'azd', 'axe', 'nqat', 'slat', 'aul', 'atmv', 'ano', 'agtz', 'tf', 'aktp', 'lyt', 'amet', 'etn', 'azm', 'dc', 'aipt', 'vaq', 'vatb', 'afot', 'latz', 'avl', 'aint', 'actc', 'cai', 'azbt', 'bfat', 'gapt', 'lbat', 'catg', 'sft', 'er', 'lpat', 'oty', 'gtl', 'aue', 'agst', 'nu', 'atjm', 'alxt', 'pe', 'oaat', 'wtj', 'aii', 'atrg', 'yq', 'xmat', 'acto', 'mhat', 'rath', 'aoc', 'koat', 'kast', 'gf', 'atcb', 'aytx', 'ctw', 'byat', 'valt', 'jtl', 'atrl', 'katc', 'kq', 'pto', 'cht', 'ralt', 'ajw', 'awq', 'atnw', 'ayt', 'atad', 'amg', 'avty', 'ajzt', 'adi', 'aito', 'daet', 'waq', 'saut', 'wtn', 'dag', 'xath', 'wg', 'atxi', 'lht', 'rcat', 'acot', 'matw', 'agy', 'itf', 'awa', 'apxt', 'faft', 'avbt', 'kit', 'aaa', 'part', 'tatu', 'datf', 'oatz', 'j', 'dam', 'nhat', 'tjt', 'atkh', 'wact', 'cb', 'aaut', 'jbt', 'ttd', 'oc', 'ktn', 'afvt', 'aovt', 'aqtj', 'nvat', 'br', 'autc', 'atpw', 'matq', 'ktp', 'atty', 'atzp', 'mtu', 'oatv', 'abe', 'awzt', 'itd', 'adtx', 'hato', 'apf', 'abtw', 'ahi', 'antl', 'byt', 'ik', 'talt', 'ahti', 'eatt', 'rah', 'atwp', 'mqt', 'axct', 'dzt', 'satv', 'auot', 'bzt', 'etb', 'eqt', 'atlb', 'naxt', 'ads', 'aczt', 'uaxt', 'katf', 'nait', 'qatm', 'ou', 'aip', 'aitc', 'otj', 'gzt', 'atpj', 'dnt', 'zati', 'lf', 'hatv', 'sast', 'calt', 'is', 'atko', 'oaft', 'sf', 'afi', 'nay', 'atkm', 'abtd', 'jats', 'xaut', 'aatg', 'patd', 'naz', 'lte', 'tas', 'awd', 'azth', 'aatw', 'act', 'axpt', 'atpq', 'xtat', 'vvat', 'vtk', 'ztj', 'gyt', 'altu', 'jdat', 'utp', 'altv', 'aywt', 'apb', 'axi', 'ual', 'auvt', 'xatq', 'asst', 'uak', 'catr', 'gv', 'last', 'vau', 'atdn', 'azrt', 'qkt', 'tart', 'mx', 'dsat', 'atol', 'xan', 'akrt', 'jtm', 'javt', 'atex', 'ahtk', 'vtm', 'atnc', 'ais', 'kh', 'watk', 'arft', 'tba', 'ptg', 'qaxt', 'anmt', 'ht', 'adtv', 'ayth', 'pty', 'mxat', 'wd', 'atir', 'kaa', 'fty', 'anbt', 'afto', 'axq', 'keat', 'attr', 'yati', 'qtb', 'ci', 'mtp', 'wpat', 'fzat', 'ngt', 'etr', 'arb', 'ute', 'nart', 'ho', 'rtg', 'je', 'aayt', 'ihat', 'ktg', 'acz', 'satl', 'tua', 'dayt', 'astp', 'atwa', 'vte', 'astd', 'jaat', 'ayr', 'hnat', 'azjt', 'dtb', 'pa', 'faf', 'leat', 'afgt', 'otp', 'ead', 'atah', 'jax', 'iax', 'bnt', 'agjt', 'agdt', 'uot', 'tast', 'ai', 'ust', 'ko', 'azx', 'lcat', 'amto', 'wag', 'iabt', 'bat', 'ahbt', 'sv', 'qaq', 'n', 'plt', 'atvr', 'watj', 'abtg', 'yast', 'wu', 'avtw', 'hatd', 'iatw', 'jdt', 'etd', 'tath', 'axtl', 'gmat', 'abd', 'atvs', 'yatg', 'ybt', 'yaj', 'altk', 'amx', 'yae', 'giat', 'cadt', 'ajp', 'zatj', 'zakt', 'ajet', 'uth', 'ukt', 'dtr', 'oabt', 'atkx', 'lnat', 'awg', 'ayto', 'algt', 'nate', 'fart', 'gyat', 'zath', 'amo', 'itk', 'ahtn', 'jatt', 'ztc', 'mayt', 'wt', 'rnat', 'laht', 'vao', 'atgz', 'avtp', 'alc', 'sap', 'wate', 'cato', 'xbt', 'vr', 'afu', 'xrat', 'srt', 'qa', 'mft', 'rts', 'oac', 'stz', 'xtb', 'datr', 'atid', 'watl', 'uv', 'sazt', 'yta', 'pr', 'jaf', 'uet', 'ratd', 'apvt', 'kaq', 'atst', 'tia', 'aeth', 'labt', 'fmt', 'makt', 'jan', 'catm', 'jnt', 'tgat', 'axtz', 'asct', 'fgt', 'atqu', 'asth', 'fy', 'mte', 'saet', 'ibat', 'ahz', 'rdat', 'aqc', 'cdt', 'admt', 'asm', 'abzt', 'aja', 'tpat', 'dt', 'aky', 'quat', 'etc', 'atuq', 'xau', 'kp', 'gft', 'atuy', 'bwat', 'qar', 'asjt', 'baz', 'katk', 'kiat', 'aetm', 'kax', 'cl', 'kkat', 'ztx', 'fao', 'paat', 'cd', 'asto', 'atiy', 'ltr', 'tamt', 'tatt', 'ctx', 'atpb', 'aztn', 'atlg', 'katz', 'ahut', 'aui', 'kats', 'ots', 'atft', 'lapt', 'ahzt', 'agq', 'gak', 'atcm', 'aijt', 'aqgt', 'naf', 'dact', 'atun', 'vas', 'acn', 'agj', 'lab', 'nzt', 'anto', 'ajrt', 'ir', 'atfv', 'ct', 'jj', 'cayt', 'dpat', 'st', 'oq', 'amtq', 'datb', 'gn', 'ahq', 'xft', 'mtf', 'alg', 'dac', 'pawt', 'dtj', 'ajxt', 'cdat', 'actd', 'atxw', 'zatq', 'atkw', 'qatb', 'dw', 'jto', 'aqtc', 'abc', 'mzat', 'ajx', 'bamt', 'gaty', 'hb', 'atjq', 'zabt', 'na', 'taty', 'raa', 'wtc', 'amz', 'sx', 'tto', 'ytj', 'ataj', 'atdi', 'ajm', 'xaat', 'azto', 'kaw', 'aoy', 'atvo', 'acts', 'auq', 'uq', 'etf', 'akth', 'anyt', 'eay', 'mgat', 'coat', 'dart', 'gatu', 'btt', 'ftq', 'asut', 'atsa', 'ii', 'mats', 'ctn', 'artk', 'vu', 'abf', 'aaot', 'tv', 'raet', 'haet', 'ayat', 'hjat', 'jc', 'avjt', 'avo', 'axbt', 'awh', 'atse', 'afb', 'fht', 'mtn', 'aae', 'rvat', 'axst', 'haf', 'aco', 'lao', 'adto', 'pait', 'vyt', 'avs', 'tq', 'kavt', 'vatl', 'akat', 'ahkt', 'wadt', 'ajb', 'pth', 'eatd', 'hata', 'jtj', 'yau', 'atin', 'fe', 'atxu', 'iatv', 'saf', 'itw', 'hgat', 'axy', 'afkt', 'atjc', 'tyat', 'gata', 'zl', 'katd', 'afn', 'atwj', 'airt', 'aajt', 'acb', 'akv', 'zapt', 'ctg', 'swt', 'lh', 'hut', 'tatc', 'abv', 'daa', 'nwt', 'yct', 'niat', 'late', 'aiv', 'yant', 'kar', 'kata', 'uac', 'h', 'ouat', 'aptq', 'watt', 'abto', 'artb', 'avtu', 'auw', 'caht', 'ltw', 'iyt', 'aktl', 'oto', 'bgt', 'abwt', 'qak', 'daft', 'lats', 'gap', 'nalt', 'uht', 'ahvt', 'no', 'rag', 'lae', 'azw', 'akt', 'eai', 'hatw', 'zavt', 'atjw', 'vtg', 'waz', 'vd', 'tatr', 'ajtn', 'tlat', 'fakt', 'brat', 'abta', 'wkt', 'add', 'pzat', 'aant', 'op', 'ttc', 'kato', 'ubat', 'ljt', 'xaft', 'pazt', 'akzt', 'sut', 'mas', 'mtg', 'acit', 'amst', 'ats', 'ayn', 'ipt', 'atzi', 'apft', 'iata', 'asu', 'rxt', 'xatp', 'aitf', 'anct', 'atnf', 'agty', 'akht', 'tsat', 'itn', 'i', 'addt', 'ok', 'mth', 'ceat', 'hao', 'jtw', 'axto', 'aotd', 'iatz', 'eth', 'avit', 'aqv', 'awwt', 'aptx', 'ept', 'vato', 'aku', 'kvt', 'abtt', 'rfat', 'nct', 'auht', 'mtj', 'aqct', 'azct', 'gbt', 'aqo', 'wn', 'ugt', 'uzt', 'qao', 'sate', 'xtm', 'up', 'toa', 'nzat', 'js', 'zact', 'tnt', 'aas', 'hpat', 'raty', 'aity', 'awbt', 'xato', 'ntf', 'zart', 'zdt', 'uaz', 'agut', 'apts', 'aux', 'appt', 'tati', 'falt', 'eto', 'antd', 'haz', 'eatp', 'agnt', 'elat', 'ztb', 'to', 'wit', 'afx', 'pagt', 'yjat', 'qata', 'agt', 'ei', 'antp', 'tlt', 'atlm', 'cae', 'aej', 'ol', 'awot', 'atjg', 'ttl', 'cath', 'caj', 'aqp', 'autx', 'ratt', 'eaot', 'autm', 'matt', 'bapt', 'aut', 'ttt', 'mtd', 'latu', 'pwat', 'qh', 'awtz', 'atsq', 'atyh', 'wtd', 'vht', 'wal', 'sact', 'ain', 'abs', 'aomt', 'zant', 'hact', 'ajtf', 'agtd', 'vl', 'jato', 'afxt', 'qx', 'astj', 'apjt', 'atzx', 'iast', 'ams', 'datw', 'saot', 'asc', 'zvt', 'avqt', 'nit', 'tah', 'anti', 'aay', 'tatp', 'qeat', 'attw', 'bsat', 'hk', 'sto', 'apg', 'yw', 'natb', 'aopt', 'ptq', 'aoe', 'ajut', 'rae', 'acp', 'afm', 'ays', 'ahnt', 'iaht', 'adpt', 'ramt', 'ttx', 'aqd', 'ialt', 'oad', 'atqk', 'aptw', 'jd', 'wot', 'pt', 'kti', 'antr', 'btl', 'atuc', 'baj', 'apd', 'kay', 'zfat', 'bazt', 'fnat', 'mp', 'uaj', 'aqqt', 'asg', 'catj', 'ito', 'jyt', 'atxh', 'atdy', 'maut', 'uzat', 'astl', 'gan', 'qae', 'jvt', 'tay', 'bk', 'aetp', 'walt', 'acs', 'vst', 'bc', 'vqat', 'atul', 'vatc', 'aetz', 'yoat', 'qp', 'opt', 'rgat', 'atiz', 'aqx', 'atqq', 'ary', 'acht', 'latm', 'zbt', 'ttk', 'qbat', 'uatp', 'agr', 'fts', 'atbf', 'sas', 'atmb', 'nkat', 'ahn', 'aybt', 'ftp', 'jaty', 'patm', 'dak', 'ahc', 'ealt', 'tst', 'mz', 'est', 'awx', 'qht', 'tai', 'amtn', 'tato', 'atnn', 'aqit', 'pi', 'ajtv', 'yvt', 'atao', 'ctb', 'pz', 'cot', 'atay', 'lm', 'aatr', 'e', 'axlt', 'ac', 'qz', 'izat', 'ahty', 'edt', 'atsw', 'ya', 'apth', 'antx', 'mkt', 'ozat', 'atmt', 'fkat', 'xact', 'yc', 'aaet', 'aytb', 'xet', 'mag', 'rtb', 'natw', 'katu', 'antk', 'zaht', 'csat', 'zata', 'yatl', 'dfat', 'pjt', 'zato', 'aznt', 'p', 'xxat', 'atgh', 'dtm', 'qo', 'gato', 'atlo', 'ahgt', 'sq', 'zto', 'asnt', 'hbt', 'atab', 'daqt', 'atfj', 'qtat', 'mv', 'kk', 'evat', 'acw', 'aer', 'dy', 'awyt', 'evt', 'atuz', 'dad', 'yl', 'cat', 'rabt', 'uata', 'atpg', 'azn', 'matg', 'ete', 'itx', 'qu', 'wbat', 'wgat', 'etat', 'abw', 'axa', 'abtc', 'abg', 'gatv', 'atnq', 'wa', 'fajt', 'axp', 'acpt', 'mlt', 'kl', 'atmg', 'eatv', 'ahtp', 'matb', 'bw', 'want', 'qqt', 'atig', 'vtf', 'aeg', 'btm', 'uc', 'atry', 'auf', 'apht', 'advt', 'yatu', 'al', 'aydt', 'ryat', 'jlat', 'iatn', 'aqtn', 'pf', 'ateb', 'atpe', 'batj', 'aktq', 'aitq', 'atym', 'acg', 'zmt', 'qadt', 'jtat', 'atru', 'atbp', 'om', 'afd', 'cft', 'eatq', 'hatn', 'vaw', 'arw', 'aok', 'azet', 'astz', 'vj', 'aqth', 'gait', 'fa', 'ao', 'ntn', 'aye', 'bpat', 'apr', 'gxt', 'xtw', 'htn', 'dk', 'awta', 'imt', 'df', 'kt', 'gatc', 'qaty', 'atnd', 'map', 'dh', 'aec', 'aitj', 'tayt', 'camt', 'atck', 'apzt', 'aokt', 'naft', 'akn', 'wnat', 'ojt', 'rth', 'hak', 'qpt', 'ly', 'ji', 'aex', 'yatq', 'patp', 'gz', 'atbb', 'mty', 'clt', 'zz', 'akvt', 'vwt', 'snat', 'qat', 'lr', 'wv', 'yaqt', 'altm', 'ueat', 'esat', 'adtr', 'hc', 'aata', 'uvat', 'azst', 'ayti', 'axtn', 'dbat', 'aapt', 'gavt', 'ail', 'poat', 'aot', 'gxat', 'xd', 'ateh', 'atwo', 'atdk', 'fait', 'agtk', 'fk', 'ckt', 'ran', 'atuk', 'uaf', 'astr', 'jwat', 'aitl', 'afqt', 'bayt', 'ldt', 'aie', 'gsat', 'fi', 'xjt', 'atwr', 'aast', 'fvt', 'waht', 'fvat', 'imat', 'gag', 'mbt', 'hmt', 'itr', 'dalt', 'rtl', 'agf', 'lxt', 'fv', 'lp', 'jpt', 'ftg', 'aqtx', 'matv', 'anft', 'jkt', 'ds', 'gatk', 'mlat', 'iae', 'watr', 'kabt', 'ayc', 'artr', 'fag', 'mac', 'yagt', 'satu', 'iats', 'tad', 'azyt', 'katv', 'ifat', 'atda', 'mai', 'tzt', 'xiat', 'gat', 'utg', 'atmz', 'sav', 'voat', 'aoxt', 'tatq', 'ph', 'nad', 'atyx', 'ajnt', 'katp', 'ait', 'ayh', 'awk', 'qatw', 'aict', 'agct', 'ajst', 'mmat', 'utf', 'miat', 'str', 'iamt', 'fpt', 'payt', 'ye', 'cts', 'agg', 'agp', 'gabt', 'ajkt', 'eaf', 'abdt', 'ace', 'attv', 'lqat', 'chat', 'atqe', 'aij', 'ytq', 'aftw', 'afs', 'adkt', 'ago', 'meat', 'antw', 'atjh', 'wast', 'aatu', 'tiat', 'tu', 'yatn', 'fatl', 'mah', 'axht', 'zn', 'ratq', 'yu', 'rq', 'ar', 'abnt', 'afut', 'iao', 'avk', 'kakt', 'at', 'oajt', 'watf', 'stg', 'ayrt', 'babt', 'rau', 'cazt', 'xlat', 'zr', 'lgt', 'rtp', 'yal', 'cx', 'bati', 'fx', 'age', 'atpp', 'atrc', 'latv', 'aatf', 'cvt', 'arx', 'le', 'adtq', 'vmat', 'pdat', 'xaj', 'fati', 'agtb', 'jant', 'wiat', 'qiat', 'bao', 'aatv', 'azti', 'attt', 'etm', 'uy', 'laa', 'oakt', 'ytt', 'gaqt', 'eatb', 'rkat', 'aotz', 'idt', 'rtv', 'tats', 'famt', 'oap', 'llat', 'fatn', 'faht', 'dakt', 'gaat', 'aypt', 'aav', 'oaf', 'ahtd', 'adjt', 'atox', 'xto', 'ax', 'yyt', 'vrt', 'vc', 'atjb', 'eaq', 'bj', 'auk', 'rft', 'bay', 'adtk', 'azh', 'fyt', 'aytk', 'artt', 'aqft', 'oab', 'actt', 'iuat', 'jm', 'oart', 'tatx', 'mata', 'ach', 'uaet', 'fzt', 'akj', 'aotp', 'afq', 'padt', 'cf', 'enat', 'hatk', 'atwx', 'alat', 'axtw', 'tx', 'satm', 'mi', 'ahat', 'ahet', 'njt', 'rh', 'akw', 'eajt', 'bti', 'ajdt', 'atfp', 'hxt', 'atxr', 'azp', 'atpo', 'kagt', 'amn', 'shat', 'ktr', 'atxs', 'mato', 'ws', 'ald', 'eatk', 'qaqt', 'hd', 'ztw', 'ahtw', 'abtq', 'wac', 'gq', 'atov', 'asbt', 'ntx', 'txt', 'apk', 'mo', 'cvat', 'avct', 'akjt', 'qac', 'aatd', 'asf', 'aee', 'td', 'atwb', 'jatu', 'atuv', 'bvt', 'gae', 'gay', 'ytr', 'atpy', 'hpt', 'pot', 'artf', 'zatd', 'laj', 'xay', 'nmat', 'ctz', 'guat', 'zac', 'tit', 'arte', 'astx', 'sait', 'agc', 'asty', 'ratp', 'ayv', 'acjt', 'sakt', 'pavt', 'hx', 'atdf', 'qy', 'yaat', 'aurt', 'atxm', 'yit', 'vaot', 'atyn', 'avtg', 'aptm', 'fkt', 'aedt', 'atls', 'vzat', 'autb', 'bm', 'laq', 'ovt', 'jti', 'uatg', 'atax', 'pn', 'arj', 'ptv', 'hatr', 'sant', 'qapt', 'saz', 'aph', 'atvt', 'adit', 'katg', 'acx', 'asw', 'acr', 'gaft', 'ggt', 'rz', 'amrt', 'atii', 'aox', 'aatt', 'kpat', 'bts', 'zaet', 'oati', 'autg', 'kd', 'eabt', 'svat', 'han', 'baq', 'jalt', 'albt', 'taf', 'qaw', 'uti', 'adc', 'atts', 'akut', 'cv', 'daf', 'auz', 'anta', 'vadt', 'waqt', 'jatk', 'ttj', 'afst', 'atfl', 'bty', 'awdt', 'jr', 'tmt', 'uas', 'wati', 'zeat', 'wakt', 'atxq', 'baht', 'th', 'ckat', 'iazt', 'avmt', 'aqj', 'bit', 'gaf', 'matu', 'aetd', 'fr', 'xm', 'ahk', 'xtt', 'yn', 'bta', 'cakt', 'ltat', 'aia', 'kxat', 'gaht', 'apu', 'wab', 'aktr', 'aput', 'lwat', 'kate', 'yapt', 'actm', 'aya', 'xkt', 'ady', 'arvt', 'aptz', 'oawt', 'azta', 'ah', 'ce', 'atkr', 'atba', 'otg', 'ahte', 'qto', 'halt', 'ijat', 'uatv', 'atmd', 'apx', 'ase', 'amh', 'vtq', 'eas', 'bart', 'atkn', 'ty', 'cw', 'xot', 'vcat', 'aqi', 'watx', 'dats', 'yiat', 'gatr', 'ep', 'ayp', 'knt', 'agtg', 'hct', 'amqt', 'natu', 'jt', 'zax', 'ecat', 'afzt', 'wlt', 'dgat', 'juat', 'ank', 'tot', 'ahit', 'qatg', 'cuat', 'artd', 'ltp', 'als', 'aktf', 'atxx', 'bb', 'atxn', 'vsat', 'adte', 'atli', 'dm', 'vaht', 'et', 'ysat', 'zwt', 'ccat', 'dq', 'kalt', 'xvt', 'acqt', 'idat', 'dpt', 'ost', 'wtb', 'qtn', 'ua', 'avj', 'hh', 'avpt', 'aytc', 'ezt', 'ekt', 'adl', 'xatv', 'iaa', 'jal', 'eaw', 'atks', 'oayt', 'arrt', 'bh', 'rad', 'eatf', 'ajo', 'atpi', 'alb', 'xaet', 'anrt', 'ape', 'fagt', 'mabt', 'lzat', 'uaot', 'faj', 'qast', 'raqt', 'aiyt', 'artp', 'arv', 'atze', 'adk', 'katl', 'vag', 'hayt', 'zd', 'mant', 'arc', 'ahf', 'yaty', 'atqy', 'ptu', 'aotu', 'oats', 'gut', 'kav', 'qad', 'jtb', 'hot', 'mtx', 'fac', 'afe', 'lj', 'saxt', 'paty', 'catu', 'aaty', 'nnat', 'atsl', 'kts', 'hvt', 'atyq', 'btv', 'c', 'iayt', 'apct', 'tavt', 'waxt', 'xatj', 'hazt', 'cbat', 'natm', 'ltz', 'jatp', 'dav', 'ailt', 'aztg', 'pat', 'hath', 'jatw', 'atqn', 'atzk', 'jtx', 'yait', 'nmt', 'jkat', 'jtv', 'dmt', 'fatz', 'xats', 'atke', 'qcat', 'alth', 'eakt', 'duat', 'mta', 'aqtk', 'iqat', 'abst', 'ikat', 'hzat', 'tqt', 'alct', 'pad', 'ahyt', 'aktz', 'blt', 'si', 'wzat', 'batm', 'atmk', 'xaqt', 'zatm', 'kait', 'arct', 'oaz', 'dtx', 'sxt', 'awti', 'udt', 'atuf', 'huat', 'utz', 'axtd', 'arto', 'xmt', 'atfk', 'cs', 'afk', 'ajtq', 'fact', 'aztk', 'mad', 'oht', 'awtv', 'aupt', 'pv', 'zjt', 'pab', 'vbat', 'xtv', 'vlt', 'wk', 'axr', 'wtz', 'igat', 'ttn', 'daht', 'ab', 'nato', 'udat', 'mst', 'eae', 'axu', 'sah', 'da', 'xaz', 'adz', 'datp', 'asr', 'jjat', 'ft', 'aqa', 'lxat', 'ejt', 'nf', 'uyat', 'adtl', 'dnat', 'oaet', 'axtk', 'mab', 'eaet', 'aab', 'atfy', 'nth', 'xq', 'uag', 'pw', 'ahst', 'jap', 'adtt', 'aixt', 'atza', 'ativ', 'hty', 'kmat', 'atpl', 'nrt', 'pate', 'il', 'rtz', 'aout', 'mati', 'amft', 'ammt', 'ftx', 'vi', 'vmt', 'ratf', 'dj', 'uapt', 'ahtf', 'vazt', 'aep', 'otf', 'oamt', 'naht', 'flt', 'atwq', 'sak', 'wyt', 'mam', 'zatx', 'ajtr', 'atbd', 'grat', 'atri', 'aeft', 'nbat', 'zhat', 'anu', 'gwt', 'jpat', 'oaxt', 'atpv', 'ktm', 'ayit', 'za', 'ywat', 'aavt', 'jatl', 'athr', 'wzt', 'hatx', 'aaq', 'axwt', 'yqat', 'faat', 'akh', 'zpt', 'ktl', 'avg', 'wamt', 'raot', 'kz', 'ltt', 'zyt', 'atkt', 'fadt', 'axta', 'tna', 'atas', 'alpt', 'bct', 'yaf', 'atut', 'oal', 'aqty', 'atci', 'bcat', 'sjat', 'atsb', 'nati', 'anwt', 'kuat', 'atgf', 'wtp', 'sabt', 'jwt', 'avc', 'atdr', 'aic', 'aed', 'otx', 'ajt', 'natk', 'aotm', 'ktx', 'atqz', 'atzz', 'iq', 'yatx', 'rpat', 'hamt', 'ahm', 'jath', 'ala', 'ytn', 'adnt', 'axti', 'datl', 'szat', 'set', 'lut', 'etj', 'qoat', 'uatt', 'mtb', 'avw', 'awnt', 'igt', 'eau', 'pqat', 'jav', 'taet', 'tatk', 'hadt', 'atxt', 'qtv', 'hal', 'batq', 'iatq', 'antc', 'baft', 'aqtt', 'avto', 'gjat', 'ohat', 'uatc', 'ytm', 'amzt', 'vct', 'auj', 'zawt', 'awtt', 'rzat', 'atmo', 'ntt', 'atjk', 'ato', 'atcg', 'eat', 'arts', 'maht', 'atvi', 'sad', 'ask', 'attg', 'aptg', 'olt', 'bu', 'fxat', 'zai', 'avht', 'atcv', 'vact', 'caot', 'avwt', 'akta', 'watb', 'ca', 'yawt', 'jx', 'amjt', 'jatg', 'euat', 'utj', 'xayt', 'autl', 'zqt', 'ham', 'ow', 'wz', 'nant', 'mau', 'ytd', 'wavt', 'axut', 'atzs', 'oxt', 'awu', 'zatt', 'qst', 'stl', 'maj', 'uawt', 'awtb', 'teat', 'aff', 'atn', 'atkb', 'gte', 'jaw', 'atki', 'awtw', 'atw', 'bax', 'ub', 'qdt', 'auut', 'axtx', 'rti', 'lazt', 'wax', 'dvt', 'mnt', 'het', 'elt', 'antb', 'aakt', 'ztt', 'soat', 'east', 'atib', 'dst', 'hait', 'stat', 'zas', 'wqt', 'tet', 'rut', 'vah', 'zy', 'atee', 'jab', 'atuo', 'by', 'qag', 'cbt', 'atem', 'axn', 'zkt', 'tvat', 'rf', 'wrt', 'uz', 'ltc', 'awz', 'ayot', 'yti', 'atvz', 'aobt', 'wht', 'ante', 'uatm', 'xwt', 'ps', 'kyat', 'lam', 'aftl', 'aei', 'yrat', 'cst', 'atdb', 'satp', 'eadt', 'ttf', 'patw', 'cjt', 'uaat', 'wats', 'rk', 'kaz', 'nuat', 'atbe', 'aqtp', 'lad', 'axet', 'znt', 'alft', 'gto', 'k', 'kth', 'mtz', 'aabt', 'std', 'vnt', 'azz', 'btf', 'amte', 'jas', 'atys', 'lta', 'zalt', 'eati', 'catp', 'myat', 'atpf', 'akc', 'yak', 'pact', 'nz', 'qaj', 'myt', 'ftu', 'agto', 'atha', 'caut', 'qtl', 'atvg', 'gast', 'qap', 'fal', 'wts', 'fatq', 'bdt', 'ral', 'atlt', 'alot', 'aqrt', 'lct', 'jak', 'll', 'hqt', 'qit', 'wan', 'utr', 'awn', 'waty', 'lai', 'acrt', 'agvt', 'ee', 'vtn', 'auto', 'zct', 'daj', 'aob', 'aogt', 'ard', 'atrp', 'gtd', 'maq', 'uaw', 'nwat', 'hat', 'auy', 'auc', 'atug', 'vam', 'atle', 'tw', 'qan', 'awut', 'acxt', 'antn', 'kvat', 'abit', 'sau', 'aate', 'atwk', 'atmc', 'stx', 'rn', 'iar', 'ake', 'axt', 'yag', 'ayd', 'agz', 'yato', 'arq', 'qm', 'ane', 'nam', 'gath', 'xtr', 'mtw', 'dqat', 'aptj', 'dazt', 'oatk', 'atlr', 'agu', 'vat', 'ftb', 'pk', 'gtm', 'sg', 'cyt', 'eac', 'alp', 'zts', 'amv', 'cet']\n"
     ]
    }
   ],
   "source": [
    "two_edits = two_edit_dist('at')\n",
    "print(len(two_edits))\n",
    "print(two_edits)"
   ]
  },
  {
   "cell_type": "markdown",
   "id": "f25be9e4",
   "metadata": {},
   "source": [
    "### ***Now we can simply predict the most probable correct word***\n",
    "- Strategy is that the word should be one edit distance away, if there is no such word then, we will try for two edit distance"
   ]
  },
  {
   "cell_type": "code",
   "execution_count": 18,
   "id": "44ee8f09",
   "metadata": {},
   "outputs": [],
   "source": [
    "def most_probable_words(word, vocab=vocab, probs=probs, n=5):\n",
    "    # n means no. of possible words we have to predict \n",
    "    possible_words = []\n",
    "    if word in vocab.keys():\n",
    "        return word\n",
    "    else:\n",
    "        # first trying for one_edit_distance\n",
    "        for w in one_edit_dist(word):\n",
    "            if w in vocab.keys():\n",
    "                possible_words.append(w)\n",
    "        # then trying out for two_edit_distance\n",
    "        if len(possible_words)==0:\n",
    "            for w in two_edit_dist(word):\n",
    "                if w in vocab.keys():\n",
    "                    possible_words.append(w)\n",
    "    \n",
    "    \n",
    "    if len(possible_words)==0:\n",
    "        return word # this is the most probable word\n",
    "    else:\n",
    "        prob = [probs[w] for w in possible_words]\n",
    "        sort = np.argsort(prob)\n",
    "        lst = []\n",
    "        sort = sort[::-1]\n",
    "        for i in range(min(n, len(sort))):\n",
    "            lst.append(possible_words[sort[i]])\n",
    "        return lst"
   ]
  },
  {
   "cell_type": "code",
   "execution_count": 19,
   "id": "7ef89ac7",
   "metadata": {},
   "outputs": [
    {
     "name": "stdout",
     "output_type": "stream",
     "text": [
      "Predicted word is days with probability 0.000383\n",
      "Predicted word is dye with probability 0.000019\n"
     ]
    }
   ],
   "source": [
    "word = 'dys'\n",
    "corrected_words = most_probable_words(word)\n",
    "for w in corrected_words:\n",
    "    print(f\"Predicted word is {w} with probability {probs[w]:.6f}\")"
   ]
  },
  {
   "cell_type": "code",
   "execution_count": 20,
   "id": "8f6fbeea",
   "metadata": {},
   "outputs": [
    {
     "name": "stdout",
     "output_type": "stream",
     "text": [
      "Predicted word is king with probability 0.002893\n",
      "Predicted word is big with probability 0.000038\n",
      "Predicted word is kin with probability 0.000019\n"
     ]
    }
   ],
   "source": [
    "word = 'kig'\n",
    "corrected_words = most_probable_words(word)\n",
    "for w in corrected_words:\n",
    "    print(f\"Predicted word is {w} with probability {probs[w]:.6f}\")"
   ]
  },
  {
   "cell_type": "code",
   "execution_count": 21,
   "id": "afffcf5d",
   "metadata": {},
   "outputs": [
    {
     "name": "stdout",
     "output_type": "stream",
     "text": [
      "Predicted word is men with probability 0.000670\n",
      "Predicted word is even with probability 0.000613\n",
      "Predicted word is been with probability 0.000594\n",
      "Predicted word is seen with probability 0.000345\n",
      "Predicted word is ten with probability 0.000230\n"
     ]
    }
   ],
   "source": [
    "word = 'een'\n",
    "corrected_words = most_probable_words(word)\n",
    "for w in corrected_words:\n",
    "    print(f\"Predicted word is {w} with probability {probs[w]:.6f}\")"
   ]
  },
  {
   "cell_type": "code",
   "execution_count": null,
   "id": "a5673f40",
   "metadata": {},
   "outputs": [],
   "source": []
  },
  {
   "cell_type": "code",
   "execution_count": null,
   "id": "926681f0",
   "metadata": {},
   "outputs": [],
   "source": []
  }
 ],
 "metadata": {
  "kernelspec": {
   "display_name": "pytorch",
   "language": "python",
   "name": "pytorch"
  },
  "language_info": {
   "codemirror_mode": {
    "name": "ipython",
    "version": 3
   },
   "file_extension": ".py",
   "mimetype": "text/x-python",
   "name": "python",
   "nbconvert_exporter": "python",
   "pygments_lexer": "ipython3",
   "version": "3.9.15"
  }
 },
 "nbformat": 4,
 "nbformat_minor": 5
}
