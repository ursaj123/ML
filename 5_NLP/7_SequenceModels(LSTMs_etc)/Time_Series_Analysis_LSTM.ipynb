{
 "cells": [
  {
   "cell_type": "code",
   "execution_count": 1,
   "id": "2bfbf482",
   "metadata": {},
   "outputs": [
    {
     "data": {
      "text/plain": [
       "'cuda'"
      ]
     },
     "execution_count": 1,
     "metadata": {},
     "output_type": "execute_result"
    }
   ],
   "source": [
    "# necessary imports\n",
    "import numpy as np\n",
    "import pandas as pd\n",
    "import matplotlib.pyplot as plt\n",
    "import torch\n",
    "import torch.nn as nn\n",
    "from torch.autograd import Variable\n",
    "from sklearn.preprocessing import MinMaxScaler\n",
    "import torchsummary as summary\n",
    "\n",
    "device = 'cuda' if torch.cuda.is_available() else 'cpu'\n",
    "device"
   ]
  },
  {
   "cell_type": "code",
   "execution_count": 2,
   "id": "72090b48",
   "metadata": {},
   "outputs": [
    {
     "data": {
      "text/html": [
       "<div>\n",
       "<style scoped>\n",
       "    .dataframe tbody tr th:only-of-type {\n",
       "        vertical-align: middle;\n",
       "    }\n",
       "\n",
       "    .dataframe tbody tr th {\n",
       "        vertical-align: top;\n",
       "    }\n",
       "\n",
       "    .dataframe thead th {\n",
       "        text-align: right;\n",
       "    }\n",
       "</style>\n",
       "<table border=\"1\" class=\"dataframe\">\n",
       "  <thead>\n",
       "    <tr style=\"text-align: right;\">\n",
       "      <th></th>\n",
       "      <th>Month</th>\n",
       "      <th>International airline passengers: monthly totals in thousands. Jan 49 ? Dec 60</th>\n",
       "    </tr>\n",
       "  </thead>\n",
       "  <tbody>\n",
       "    <tr>\n",
       "      <th>0</th>\n",
       "      <td>1949-01</td>\n",
       "      <td>112.0</td>\n",
       "    </tr>\n",
       "    <tr>\n",
       "      <th>1</th>\n",
       "      <td>1949-02</td>\n",
       "      <td>118.0</td>\n",
       "    </tr>\n",
       "    <tr>\n",
       "      <th>2</th>\n",
       "      <td>1949-03</td>\n",
       "      <td>132.0</td>\n",
       "    </tr>\n",
       "    <tr>\n",
       "      <th>3</th>\n",
       "      <td>1949-04</td>\n",
       "      <td>129.0</td>\n",
       "    </tr>\n",
       "    <tr>\n",
       "      <th>4</th>\n",
       "      <td>1949-05</td>\n",
       "      <td>121.0</td>\n",
       "    </tr>\n",
       "    <tr>\n",
       "      <th>...</th>\n",
       "      <td>...</td>\n",
       "      <td>...</td>\n",
       "    </tr>\n",
       "    <tr>\n",
       "      <th>140</th>\n",
       "      <td>1960-09</td>\n",
       "      <td>508.0</td>\n",
       "    </tr>\n",
       "    <tr>\n",
       "      <th>141</th>\n",
       "      <td>1960-10</td>\n",
       "      <td>461.0</td>\n",
       "    </tr>\n",
       "    <tr>\n",
       "      <th>142</th>\n",
       "      <td>1960-11</td>\n",
       "      <td>390.0</td>\n",
       "    </tr>\n",
       "    <tr>\n",
       "      <th>143</th>\n",
       "      <td>1960-12</td>\n",
       "      <td>432.0</td>\n",
       "    </tr>\n",
       "    <tr>\n",
       "      <th>144</th>\n",
       "      <td>International airline passengers: monthly tota...</td>\n",
       "      <td>NaN</td>\n",
       "    </tr>\n",
       "  </tbody>\n",
       "</table>\n",
       "<p>145 rows × 2 columns</p>\n",
       "</div>"
      ],
      "text/plain": [
       "                                                 Month  \\\n",
       "0                                              1949-01   \n",
       "1                                              1949-02   \n",
       "2                                              1949-03   \n",
       "3                                              1949-04   \n",
       "4                                              1949-05   \n",
       "..                                                 ...   \n",
       "140                                            1960-09   \n",
       "141                                            1960-10   \n",
       "142                                            1960-11   \n",
       "143                                            1960-12   \n",
       "144  International airline passengers: monthly tota...   \n",
       "\n",
       "     International airline passengers: monthly totals in thousands. Jan 49 ? Dec 60  \n",
       "0                                                112.0                               \n",
       "1                                                118.0                               \n",
       "2                                                132.0                               \n",
       "3                                                129.0                               \n",
       "4                                                121.0                               \n",
       "..                                                 ...                               \n",
       "140                                              508.0                               \n",
       "141                                              461.0                               \n",
       "142                                              390.0                               \n",
       "143                                              432.0                               \n",
       "144                                                NaN                               \n",
       "\n",
       "[145 rows x 2 columns]"
      ]
     },
     "execution_count": 2,
     "metadata": {},
     "output_type": "execute_result"
    }
   ],
   "source": [
    "# importing the dataset\n",
    "data = pd.read_csv('international-airline-passengers.csv')\n",
    "data"
   ]
  },
  {
   "cell_type": "code",
   "execution_count": 3,
   "id": "38904118",
   "metadata": {},
   "outputs": [
    {
     "data": {
      "image/png": "[encoded data removed]",
      "text/plain": [
       "<Figure size 432x288 with 1 Axes>"
      ]
     },
     "metadata": {
      "needs_background": "light"
     },
     "output_type": "display_data"
    }
   ],
   "source": [
    "# plot the data\n",
    "def plot(data):\n",
    "    '''\n",
    "    # If we consider that data of days in between is missing then uncomment this otherwise the code written down will be used \n",
    "    #simply.\n",
    "    months = [31, 28, 31, 30, 31, 30, 31, 31, 30, 31, 30, 31] # no. of days in month\n",
    "    cumulative_days = []\n",
    "    sum_ = 0\n",
    "    cumulative_days.append(sum_)\n",
    "    for i in range(len(months)-1):\n",
    "        sum_ += months[i]\n",
    "        cumulative_days.append(sum_)\n",
    "    \n",
    "    dates = list(map(lambda a: cumulative_days[int(a[0])] + int(a[2:]), data['Month']))\n",
    "    prices = data['Sales'].values\n",
    "    \n",
    "    \n",
    "    plt.plot(dates, prices, 'r')\n",
    "    plt.title('Day in the year vs sales')\n",
    "    plt.scatter(dates, prices)\n",
    "    plt.show()\n",
    "    '''\n",
    "    plt.plot(data.iloc[:-1, 1])\n",
    "    plt.title(\"Airline Passengers Data\")\n",
    "    plt.xlabel(\"Month number\")\n",
    "    plt.ylabel(\"Number of passengers\")\n",
    "    plt.show()\n",
    "####################################################    \n",
    "plot(data)"
   ]
  },
  {
   "cell_type": "code",
   "execution_count": 4,
   "id": "c25dbba7",
   "metadata": {},
   "outputs": [],
   "source": [
    "# sliding windows is used to make the problem like supervised learning\n",
    "def sliding_windows(data, seq_len):\n",
    "    x = []\n",
    "    y = []\n",
    "    for i in range(data.shape[0] - seq_len - 1): \n",
    "        x.append(data[i:i+seq_len])\n",
    "        y.append(data[i+seq_len])\n",
    "    return np.array(x), np.array(y)"
   ]
  },
  {
   "cell_type": "code",
   "execution_count": 5,
   "id": "334e4f62",
   "metadata": {},
   "outputs": [],
   "source": [
    "# forming the train and test sets\n",
    "passengers = data.iloc[:-1, 1:2 ].values\n",
    "sc = MinMaxScaler()\n",
    "training_data = sc.fit_transform(passengers)\n",
    "\n",
    "# transforming the data into form of sequences\n",
    "seq_len = 4\n",
    "x, y = sliding_windows(training_data, seq_len)\n",
    "\n",
    "# setting training and testing sizes\n",
    "train_size = (70*x.shape[0])//100# 70%\n",
    "test_size = x.shape[0] - train_size\n",
    "\n",
    "#transforming the numpy vectors into tensors\n",
    "\n",
    "data_x = Variable(torch.Tensor(np.array(x)))\n",
    "data_y = Variable(torch.Tensor(np.array(y)))\n",
    "\n",
    "train_x = Variable(torch.Tensor(np.array(x[0:train_size])))\n",
    "train_y = Variable(torch.Tensor(np.array(y[0:train_size])))\n",
    "\n",
    "test_x = Variable(torch.Tensor(np.array(x[train_size:len(x)])))\n",
    "test_y = Variable(torch.Tensor(np.array(y[train_size:len(y)])))  # we could have selected the train and test data randomly also    \n"
   ]
  },
  {
   "cell_type": "code",
   "execution_count": 6,
   "id": "781db51e",
   "metadata": {},
   "outputs": [],
   "source": [
    "# network structure of lstm \n",
    "class network(nn.Module):\n",
    "\n",
    "    def __init__(self, num_classes, input_size, hidden_size, num_layers, seq_len):\n",
    "        super(network, self).__init__()\n",
    "        \n",
    "        self.num_classes = num_classes\n",
    "        self.num_layers = num_layers\n",
    "        self.input_size = input_size\n",
    "        self.hidden_size = hidden_size\n",
    "        self.seq_len = seq_len\n",
    "        \n",
    "        self.lstm = nn.LSTM(input_size=input_size, hidden_size=hidden_size,\n",
    "                            num_layers=num_layers, batch_first=True)\n",
    "        \n",
    "        self.fc = nn.Linear(hidden_size, num_classes)\n",
    "\n",
    "    def forward(self, x):\n",
    "        h_0 = Variable(torch.zeros(\n",
    "            self.num_layers, x.size(0), self.hidden_size)).to(device)\n",
    "        \n",
    "        c_0 = Variable(torch.zeros(\n",
    "            self.num_layers, x.size(0), self.hidden_size)).to(device)\n",
    "        \n",
    "        # Propagate input through LSTM\n",
    "        _, (h_out, _) = self.lstm(x, (h_0, c_0))\n",
    "        \n",
    "        h_out = h_out.view(-1, self.hidden_size)\n",
    "        \n",
    "        out = self.fc(h_out)\n",
    "        \n",
    "        return out"
   ]
  },
  {
   "cell_type": "code",
   "execution_count": 7,
   "id": "5708a9a6",
   "metadata": {},
   "outputs": [],
   "source": [
    "# hparams\n",
    "num_epochs = 1000\n",
    "learning_rate = 0.01\n",
    "seq_len = 4\n",
    "input_size = 1\n",
    "hidden_size = 2\n",
    "num_layers = 1\n",
    "num_classes = 1 # here classes don't have a meaning\n",
    "\n",
    "lstm = network(num_classes, input_size, hidden_size, num_layers, seq_len).to(device)\n",
    "\n",
    "criterion = torch.nn.MSELoss()    # mean-squared error for regression\n",
    "optimizer = torch.optim.Adam(lstm.parameters(), lr=learning_rate)\n",
    "\n",
    "#summary(lstm, train_x.shape)"
   ]
  },
  {
   "cell_type": "code",
   "execution_count": 8,
   "id": "065a4537",
   "metadata": {},
   "outputs": [],
   "source": [
    "# training loop which is much simpler\n",
    "def train(num_epochs, learning_rate, lstm, criterion, optimizer):\n",
    "    losses = []\n",
    "    for epoch in range(num_epochs+1):\n",
    "        inputs = train_x.to(device)\n",
    "        y_orig = train_y.to(device)\n",
    "        \n",
    "        outputs = lstm(inputs)\n",
    "        optimizer.zero_grad()\n",
    "\n",
    "        # obtain the loss function\n",
    "        loss = criterion(outputs, y_orig)\n",
    "        losses.append(loss.item())\n",
    "        loss.backward()\n",
    "\n",
    "        optimizer.step()\n",
    "        if epoch % 100 == 0:\n",
    "          print(\"Epoch: %d, loss: %1.5f\" % (epoch, loss.item()))\n",
    "    plt.plot(range(num_epochs+1), losses)\n",
    "    plt.xlabel(\"Number of iterations\")\n",
    "    plt.ylabel(\"Loss\")\n",
    "    plt.show()"
   ]
  },
  {
   "cell_type": "code",
   "execution_count": 9,
   "id": "2bd545e1",
   "metadata": {},
   "outputs": [
    {
     "name": "stdout",
     "output_type": "stream",
     "text": [
      "Epoch: 0, loss: 0.08778\n",
      "Epoch: 100, loss: 0.01187\n",
      "Epoch: 200, loss: 0.00351\n",
      "Epoch: 300, loss: 0.00281\n",
      "Epoch: 400, loss: 0.00221\n",
      "Epoch: 500, loss: 0.00194\n",
      "Epoch: 600, loss: 0.00185\n",
      "Epoch: 700, loss: 0.00184\n",
      "Epoch: 800, loss: 0.00184\n",
      "Epoch: 900, loss: 0.00183\n",
      "Epoch: 1000, loss: 0.00183\n"
     ]
    },
    {
     "data": {
      "image/png": "[encoded data removed]",
      "text/plain": [
       "<Figure size 432x288 with 1 Axes>"
      ]
     },
     "metadata": {
      "needs_background": "light"
     },
     "output_type": "display_data"
    }
   ],
   "source": [
    "train(num_epochs, learning_rate, lstm, criterion, optimizer)"
   ]
  },
  {
   "cell_type": "code",
   "execution_count": 10,
   "id": "00d4c132",
   "metadata": {},
   "outputs": [
    {
     "data": {
      "image/png": "[encoded data removed]",
      "text/plain": [
       "<Figure size 432x288 with 1 Axes>"
      ]
     },
     "metadata": {
      "needs_background": "light"
     },
     "output_type": "display_data"
    }
   ],
   "source": [
    "# prediction on the training and testing set\n",
    "train_predict = lstm(data_x.to(device))\n",
    "\n",
    "data_predict = train_predict.data.cpu().numpy()\n",
    "data_y_plot = data_y.data.cpu().numpy()\n",
    "\n",
    "data_predict = sc.inverse_transform(data_predict) # rescaling the values to original values \n",
    "data_y_plot = sc.inverse_transform(data_y_plot)    \n",
    "\n",
    "plt.axvline(x=train_size, c='r', linestyle='--')\n",
    "\n",
    "plt.plot(data_y_plot)\n",
    "plt.plot(data_predict)\n",
    "plt.title('Time-Series Prediction')\n",
    "plt.legend([\"train_size\", \"original_value\", \"predicted_value\"], loc='upper left')\n",
    "plt.show()\n",
    "    "
   ]
  },
  {
   "cell_type": "code",
   "execution_count": null,
   "id": "e2fac796",
   "metadata": {},
   "outputs": [],
   "source": []
  },
  {
   "cell_type": "code",
   "execution_count": null,
   "id": "6362de2a",
   "metadata": {},
   "outputs": [],
   "source": []
  },
  {
   "cell_type": "code",
   "execution_count": null,
   "id": "14ca5e15",
   "metadata": {},
   "outputs": [],
   "source": []
  }
 ],
 "metadata": {
  "kernelspec": {
   "display_name": "pytorch",
   "language": "python",
   "name": "pytorch"
  },
  "language_info": {
   "codemirror_mode": {
    "name": "ipython",
    "version": 3
   },
   "file_extension": ".py",
   "mimetype": "text/x-python",
   "name": "python",
   "nbconvert_exporter": "python",
   "pygments_lexer": "ipython3",
   "version": "3.9.7"
  }
 },
 "nbformat": 4,
 "nbformat_minor": 5
}
