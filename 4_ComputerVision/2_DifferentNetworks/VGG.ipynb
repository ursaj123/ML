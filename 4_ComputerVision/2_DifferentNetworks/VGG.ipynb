{
 "cells": [
  {
   "cell_type": "code",
   "execution_count": 1,
   "id": "cac68e87",
   "metadata": {},
   "outputs": [],
   "source": [
    "import numpy as np\n",
    "import pandas as pd\n",
    "import matplotlib.pyplot as plt\n",
    "from matplotlib import style\n",
    "\n",
    "import torch \n",
    "from torch import nn\n",
    "\n",
    "from torchsummary import summary"
   ]
  },
  {
   "cell_type": "code",
   "execution_count": 15,
   "id": "f29273f8",
   "metadata": {},
   "outputs": [
    {
     "data": {
      "text/plain": [
       "'cpu'"
      ]
     },
     "execution_count": 15,
     "metadata": {},
     "output_type": "execute_result"
    }
   ],
   "source": [
    "device = 'cuda' if torch.cuda.is_available() else 'cpu'\n",
    "device"
   ]
  },
  {
   "cell_type": "code",
   "execution_count": 16,
   "id": "7da1aa95",
   "metadata": {},
   "outputs": [],
   "source": [
    "class block(nn.Module):\n",
    "    def __init__(self, in_channels, num_conv, out_channels, max_pooling=True):\n",
    "        super(block, self).__init__()\n",
    "        all_convs = []\n",
    "        for i in range(num_conv):\n",
    "            if i==0: # just for changing numbe of channels\n",
    "                all_convs.append(nn.Conv2d(in_channels=in_channels, out_channels=out_channels,\n",
    "                                              kernel_size=(3,3), padding=(1,1), stride=(1,1)))\n",
    "            else: \n",
    "                all_convs.append(nn.Conv2d(in_channels=out_channels, out_channels=out_channels,  \n",
    "                                              kernel_size=(3,3), padding=(1,1), stride=(1,1)))\n",
    "            all_convs.append(nn.ReLU())\n",
    "        all_convs.append(nn.MaxPool2d(kernel_size=(2,2), stride=(2,2)))\n",
    "        self.conv = nn.Sequential(*all_convs)\n",
    "\n",
    "    def forward(self, x):\n",
    "        return self.conv(x)"
   ]
  },
  {
   "cell_type": "code",
   "execution_count": 17,
   "id": "299ecf9d",
   "metadata": {},
   "outputs": [
    {
     "name": "stdout",
     "output_type": "stream",
     "text": [
      "----------------------------------------------------------------\n",
      "        Layer (type)               Output Shape         Param #\n",
      "================================================================\n",
      "            Conv2d-1             [-1, 64, 2, 2]           1,792\n",
      "              ReLU-2             [-1, 64, 2, 2]               0\n",
      "         MaxPool2d-3             [-1, 64, 1, 1]               0\n",
      "================================================================\n",
      "Total params: 1,792\n",
      "Trainable params: 1,792\n",
      "Non-trainable params: 0\n",
      "----------------------------------------------------------------\n",
      "Input size (MB): 0.00\n",
      "Forward/backward pass size (MB): 0.00\n",
      "Params size (MB): 0.01\n",
      "Estimated Total Size (MB): 0.01\n",
      "----------------------------------------------------------------\n"
     ]
    }
   ],
   "source": [
    "model = block(3, 1, 64, True).to(device)\n",
    "summary(model, (3, 2, 2))"
   ]
  },
  {
   "cell_type": "code",
   "execution_count": 27,
   "id": "0fadd419",
   "metadata": {},
   "outputs": [],
   "source": [
    "class VGG(nn.Module):\n",
    "    def __init__(self, input_shape, layers, num_classes):\n",
    "        # layers must be a list of tuples consisting of num of covolutions in one block and channels in \n",
    "        # that convolution\n",
    "        # input_shape = (num_channels, height, width) \n",
    "        \n",
    "        super(VGG, self).__init__()\n",
    "        in_channels, height, width = input_shape\n",
    "        all_convs = []\n",
    "        for (num_conv, out_channels) in layers:\n",
    "            #print(f\"num_conv = {num_conv}, in_channels = {in_channels}, out_channels = {out_channels}\")\n",
    "            all_convs.append(block(in_channels=in_channels, num_conv=num_conv,\n",
    "                                             out_channels=out_channels))\n",
    "            in_channels = out_channels\n",
    "        \n",
    "        self.conv = nn.Sequential(*all_convs)\n",
    "        height = height//(2**len(layers))\n",
    "        width = width//(2**len(layers))\n",
    "        self.fc1 = nn.Linear(in_features=layers[-1][1]*height*width, out_features=4096)    \n",
    "        self.fc2 = nn.Linear(in_features = 4096, out_features=4096)\n",
    "        self.fc3 = nn.Linear(in_features=4096, out_features=num_classes)\n",
    "        self.dropout = nn.Dropout()\n",
    "        self.relu = nn.ReLU()\n",
    "        \n",
    "    def forward(self, x):\n",
    "        x = self.conv(x)\n",
    "        x = nn.Flatten()(x)\n",
    "        \n",
    "        x = self.relu(self.fc1(x))\n",
    "        x = self.dropout(x)\n",
    "        \n",
    "        x = self.relu(self.fc2(x))\n",
    "        x = self.dropout(x)\n",
    "        \n",
    "        x = self.fc3(x)\n",
    "        return x"
   ]
  },
  {
   "cell_type": "code",
   "execution_count": 28,
   "id": "4960d4d5",
   "metadata": {},
   "outputs": [
    {
     "name": "stdout",
     "output_type": "stream",
     "text": [
      "----------------------------------------------------------------\n",
      "        Layer (type)               Output Shape         Param #\n",
      "================================================================\n",
      "            Conv2d-1         [-1, 64, 224, 224]           1,792\n",
      "              ReLU-2         [-1, 64, 224, 224]               0\n",
      "         MaxPool2d-3         [-1, 64, 112, 112]               0\n",
      "             block-4         [-1, 64, 112, 112]               0\n",
      "            Conv2d-5        [-1, 128, 112, 112]          73,856\n",
      "              ReLU-6        [-1, 128, 112, 112]               0\n",
      "         MaxPool2d-7          [-1, 128, 56, 56]               0\n",
      "             block-8          [-1, 128, 56, 56]               0\n",
      "            Conv2d-9          [-1, 256, 56, 56]         295,168\n",
      "             ReLU-10          [-1, 256, 56, 56]               0\n",
      "           Conv2d-11          [-1, 256, 56, 56]         590,080\n",
      "             ReLU-12          [-1, 256, 56, 56]               0\n",
      "        MaxPool2d-13          [-1, 256, 28, 28]               0\n",
      "            block-14          [-1, 256, 28, 28]               0\n",
      "           Conv2d-15          [-1, 512, 28, 28]       1,180,160\n",
      "             ReLU-16          [-1, 512, 28, 28]               0\n",
      "           Conv2d-17          [-1, 512, 28, 28]       2,359,808\n",
      "             ReLU-18          [-1, 512, 28, 28]               0\n",
      "        MaxPool2d-19          [-1, 512, 14, 14]               0\n",
      "            block-20          [-1, 512, 14, 14]               0\n",
      "           Conv2d-21          [-1, 512, 14, 14]       2,359,808\n",
      "             ReLU-22          [-1, 512, 14, 14]               0\n",
      "           Conv2d-23          [-1, 512, 14, 14]       2,359,808\n",
      "             ReLU-24          [-1, 512, 14, 14]               0\n",
      "        MaxPool2d-25            [-1, 512, 7, 7]               0\n",
      "            block-26            [-1, 512, 7, 7]               0\n",
      "           Linear-27                 [-1, 4096]     102,764,544\n",
      "             ReLU-28                 [-1, 4096]               0\n",
      "          Dropout-29                 [-1, 4096]               0\n",
      "           Linear-30                 [-1, 4096]      16,781,312\n",
      "             ReLU-31                 [-1, 4096]               0\n",
      "          Dropout-32                 [-1, 4096]               0\n",
      "           Linear-33                   [-1, 10]          40,970\n",
      "================================================================\n",
      "Total params: 128,807,306\n",
      "Trainable params: 128,807,306\n",
      "Non-trainable params: 0\n",
      "----------------------------------------------------------------\n",
      "Input size (MB): 0.57\n",
      "Forward/backward pass size (MB): 136.85\n",
      "Params size (MB): 491.36\n",
      "Estimated Total Size (MB): 628.79\n",
      "----------------------------------------------------------------\n"
     ]
    }
   ],
   "source": [
    "layers11 = ((1, 64), (1, 128), (2, 256), (2, 512), (2, 512))\n",
    "input_shape = (3, 224, 224)\n",
    "num_classes = 10\n",
    "vgg11 = VGG(input_shape=input_shape, layers=layers11, num_classes=num_classes).to(device)\n",
    "summary(vgg11, input_shape)"
   ]
  },
  {
   "cell_type": "code",
   "execution_count": 29,
   "id": "cf279412",
   "metadata": {},
   "outputs": [
    {
     "name": "stdout",
     "output_type": "stream",
     "text": [
      "----------------------------------------------------------------\n",
      "        Layer (type)               Output Shape         Param #\n",
      "================================================================\n",
      "            Conv2d-1         [-1, 64, 224, 224]           1,792\n",
      "              ReLU-2         [-1, 64, 224, 224]               0\n",
      "            Conv2d-3         [-1, 64, 224, 224]          36,928\n",
      "              ReLU-4         [-1, 64, 224, 224]               0\n",
      "         MaxPool2d-5         [-1, 64, 112, 112]               0\n",
      "             block-6         [-1, 64, 112, 112]               0\n",
      "            Conv2d-7        [-1, 128, 112, 112]          73,856\n",
      "              ReLU-8        [-1, 128, 112, 112]               0\n",
      "            Conv2d-9        [-1, 128, 112, 112]         147,584\n",
      "             ReLU-10        [-1, 128, 112, 112]               0\n",
      "        MaxPool2d-11          [-1, 128, 56, 56]               0\n",
      "            block-12          [-1, 128, 56, 56]               0\n",
      "           Conv2d-13          [-1, 256, 56, 56]         295,168\n",
      "             ReLU-14          [-1, 256, 56, 56]               0\n",
      "           Conv2d-15          [-1, 256, 56, 56]         590,080\n",
      "             ReLU-16          [-1, 256, 56, 56]               0\n",
      "           Conv2d-17          [-1, 256, 56, 56]         590,080\n",
      "             ReLU-18          [-1, 256, 56, 56]               0\n",
      "           Conv2d-19          [-1, 256, 56, 56]         590,080\n",
      "             ReLU-20          [-1, 256, 56, 56]               0\n",
      "        MaxPool2d-21          [-1, 256, 28, 28]               0\n",
      "            block-22          [-1, 256, 28, 28]               0\n",
      "           Conv2d-23          [-1, 512, 28, 28]       1,180,160\n",
      "             ReLU-24          [-1, 512, 28, 28]               0\n",
      "           Conv2d-25          [-1, 512, 28, 28]       2,359,808\n",
      "             ReLU-26          [-1, 512, 28, 28]               0\n",
      "           Conv2d-27          [-1, 512, 28, 28]       2,359,808\n",
      "             ReLU-28          [-1, 512, 28, 28]               0\n",
      "           Conv2d-29          [-1, 512, 28, 28]       2,359,808\n",
      "             ReLU-30          [-1, 512, 28, 28]               0\n",
      "        MaxPool2d-31          [-1, 512, 14, 14]               0\n",
      "            block-32          [-1, 512, 14, 14]               0\n",
      "           Conv2d-33          [-1, 512, 14, 14]       2,359,808\n",
      "             ReLU-34          [-1, 512, 14, 14]               0\n",
      "           Conv2d-35          [-1, 512, 14, 14]       2,359,808\n",
      "             ReLU-36          [-1, 512, 14, 14]               0\n",
      "           Conv2d-37          [-1, 512, 14, 14]       2,359,808\n",
      "             ReLU-38          [-1, 512, 14, 14]               0\n",
      "           Conv2d-39          [-1, 512, 14, 14]       2,359,808\n",
      "             ReLU-40          [-1, 512, 14, 14]               0\n",
      "        MaxPool2d-41            [-1, 512, 7, 7]               0\n",
      "            block-42            [-1, 512, 7, 7]               0\n",
      "           Linear-43                 [-1, 4096]     102,764,544\n",
      "             ReLU-44                 [-1, 4096]               0\n",
      "          Dropout-45                 [-1, 4096]               0\n",
      "           Linear-46                 [-1, 4096]      16,781,312\n",
      "             ReLU-47                 [-1, 4096]               0\n",
      "          Dropout-48                 [-1, 4096]               0\n",
      "           Linear-49                   [-1, 10]          40,970\n",
      "================================================================\n",
      "Total params: 139,611,210\n",
      "Trainable params: 139,611,210\n",
      "Non-trainable params: 0\n",
      "----------------------------------------------------------------\n",
      "Input size (MB): 0.57\n",
      "Forward/backward pass size (MB): 250.16\n",
      "Params size (MB): 532.57\n",
      "Estimated Total Size (MB): 783.31\n",
      "----------------------------------------------------------------\n"
     ]
    }
   ],
   "source": [
    "layers19 = ((2, 64), (2, 128), (4, 256), (4, 512), (4, 512))\n",
    "input_shape = (3, 224, 224)\n",
    "num_classes = 10\n",
    "vgg19 = VGG(input_shape=input_shape, layers=layers19, num_classes=num_classes).to(device)\n",
    "summary(vgg19, input_shape)"
   ]
  },
  {
   "cell_type": "code",
   "execution_count": null,
   "id": "6e95856b",
   "metadata": {},
   "outputs": [],
   "source": []
  }
 ],
 "metadata": {
  "kernelspec": {
   "display_name": "pytorch",
   "language": "python",
   "name": "pytorch"
  },
  "language_info": {
   "codemirror_mode": {
    "name": "ipython",
    "version": 3
   },
   "file_extension": ".py",
   "mimetype": "text/x-python",
   "name": "python",
   "nbconvert_exporter": "python",
   "pygments_lexer": "ipython3",
   "version": "3.9.15"
  }
 },
 "nbformat": 4,
 "nbformat_minor": 5
}
