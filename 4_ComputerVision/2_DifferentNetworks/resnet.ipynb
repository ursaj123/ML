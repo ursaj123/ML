{
 "cells": [
  {
   "cell_type": "code",
   "execution_count": 1,
   "id": "b029704b",
   "metadata": {},
   "outputs": [],
   "source": [
    "import numpy as np\n",
    "import pandas as pd\n",
    "import matplotlib.pyplot as plt\n",
    "from matplotlib import style\n",
    "\n",
    "import torch \n",
    "from torch import nn\n",
    "\n",
    "from torchsummary import summary"
   ]
  },
  {
   "cell_type": "code",
   "execution_count": 2,
   "id": "b60ee3f9",
   "metadata": {},
   "outputs": [
    {
     "data": {
      "text/plain": [
       "'cpu'"
      ]
     },
     "execution_count": 2,
     "metadata": {},
     "output_type": "execute_result"
    }
   ],
   "source": [
    "device = 'cuda' if torch.cuda.is_available() else 'cpu'\n",
    "device"
   ]
  },
  {
   "cell_type": "code",
   "execution_count": 59,
   "id": "dc385022",
   "metadata": {},
   "outputs": [],
   "source": [
    "class res_block(nn.Module):\n",
    "    def __init__(self, in_channels, out_channels, stride=1, use_1x1_conv=False):\n",
    "        super(res_block, self).__init__()\n",
    "        self.use_1x1_conv = use_1x1_conv\n",
    "        self.conv1 = nn.Sequential(\n",
    "            nn.Conv2d(in_channels=in_channels, out_channels=out_channels, kernel_size=3,\n",
    "                            stride=stride, padding=1),\n",
    "            nn.BatchNorm2d(out_channels),\n",
    "            nn.ReLU())\n",
    "        self.conv2 = nn.Sequential(\n",
    "            nn.Conv2d(in_channels=out_channels, out_channels=out_channels, kernel_size=3,\n",
    "                              stride=1, padding=1),\n",
    "            nn.BatchNorm2d(out_channels))\n",
    "        \n",
    "        self.conv3 = None\n",
    "        if self.use_1x1_conv:\n",
    "            self.conv3 = nn.Sequential(\n",
    "                        nn.Conv2d(in_channels=in_channels, out_channels=out_channels,\n",
    "                                  kernel_size=1, stride=stride))\n",
    "        \n",
    "    def forward(self, x):\n",
    "        op1 = self.conv1(x)\n",
    "        op1 = self.conv2(op1)\n",
    "        op2 = x\n",
    "        if self.use_1x1_conv:\n",
    "            op2 = self.conv3(op2)\n",
    "        return nn.ReLU()(op1 + op2)"
   ]
  },
  {
   "cell_type": "code",
   "execution_count": 60,
   "id": "76b9d388",
   "metadata": {},
   "outputs": [
    {
     "name": "stdout",
     "output_type": "stream",
     "text": [
      "----------------------------------------------------------------\n",
      "        Layer (type)               Output Shape         Param #\n",
      "================================================================\n",
      "            Conv2d-1           [-1, 64, 32, 32]           1,792\n",
      "       BatchNorm2d-2           [-1, 64, 32, 32]             128\n",
      "              ReLU-3           [-1, 64, 32, 32]               0\n",
      "            Conv2d-4           [-1, 64, 32, 32]          36,928\n",
      "       BatchNorm2d-5           [-1, 64, 32, 32]             128\n",
      "            Conv2d-6           [-1, 64, 32, 32]             256\n",
      "================================================================\n",
      "Total params: 39,232\n",
      "Trainable params: 39,232\n",
      "Non-trainable params: 0\n",
      "----------------------------------------------------------------\n",
      "Input size (MB): 0.05\n",
      "Forward/backward pass size (MB): 3.00\n",
      "Params size (MB): 0.15\n",
      "Estimated Total Size (MB): 3.20\n",
      "----------------------------------------------------------------\n"
     ]
    }
   ],
   "source": [
    "temp = res_block(3, 64, stride=2, use_1x1_conv=True).to(device)\n",
    "summary(temp, (3, 64, 64))"
   ]
  },
  {
   "cell_type": "code",
   "execution_count": 64,
   "id": "c38796cb",
   "metadata": {},
   "outputs": [],
   "source": [
    "class complete_block(nn.Module):\n",
    "    def __init__(self, in_channels ,out_channels, num_blocks, first_block=False):\n",
    "        super(complete_block, self).__init__()\n",
    "        blk = []\n",
    "        for i in range(num_blocks):\n",
    "            if i == 0 and not first_block:\n",
    "                blk.append(res_block(in_channels, out_channels, use_1x1_conv=True, stride=2))\n",
    "            else:\n",
    "                blk.append(res_block(in_channels, out_channels))\n",
    "            in_channels = out_channels\n",
    "        self.conv = nn.Sequential(*blk)\n",
    "        \n",
    "    def forward(self, x):\n",
    "        return self.conv(x)\n",
    "    "
   ]
  },
  {
   "cell_type": "code",
   "execution_count": 65,
   "id": "834e4595",
   "metadata": {},
   "outputs": [
    {
     "name": "stdout",
     "output_type": "stream",
     "text": [
      "----------------------------------------------------------------\n",
      "        Layer (type)               Output Shape         Param #\n",
      "================================================================\n",
      "            Conv2d-1           [-1, 64, 56, 56]          36,928\n",
      "       BatchNorm2d-2           [-1, 64, 56, 56]             128\n",
      "              ReLU-3           [-1, 64, 56, 56]               0\n",
      "            Conv2d-4           [-1, 64, 56, 56]          36,928\n",
      "       BatchNorm2d-5           [-1, 64, 56, 56]             128\n",
      "         res_block-6           [-1, 64, 56, 56]               0\n",
      "            Conv2d-7           [-1, 64, 56, 56]          36,928\n",
      "       BatchNorm2d-8           [-1, 64, 56, 56]             128\n",
      "              ReLU-9           [-1, 64, 56, 56]               0\n",
      "           Conv2d-10           [-1, 64, 56, 56]          36,928\n",
      "      BatchNorm2d-11           [-1, 64, 56, 56]             128\n",
      "        res_block-12           [-1, 64, 56, 56]               0\n",
      "================================================================\n",
      "Total params: 148,224\n",
      "Trainable params: 148,224\n",
      "Non-trainable params: 0\n",
      "----------------------------------------------------------------\n",
      "Input size (MB): 0.77\n",
      "Forward/backward pass size (MB): 18.38\n",
      "Params size (MB): 0.57\n",
      "Estimated Total Size (MB): 19.71\n",
      "----------------------------------------------------------------\n"
     ]
    }
   ],
   "source": [
    "temp = complete_block(64, 64, 2, first_block=True).to(device)\n",
    "summary(temp, (64, 56, 56))"
   ]
  },
  {
   "cell_type": "code",
   "execution_count": 66,
   "id": "0e94f448",
   "metadata": {},
   "outputs": [
    {
     "name": "stdout",
     "output_type": "stream",
     "text": [
      "----------------------------------------------------------------\n",
      "        Layer (type)               Output Shape         Param #\n",
      "================================================================\n",
      "            Conv2d-1          [-1, 128, 28, 28]          73,856\n",
      "       BatchNorm2d-2          [-1, 128, 28, 28]             256\n",
      "              ReLU-3          [-1, 128, 28, 28]               0\n",
      "            Conv2d-4          [-1, 128, 28, 28]         147,584\n",
      "       BatchNorm2d-5          [-1, 128, 28, 28]             256\n",
      "            Conv2d-6          [-1, 128, 28, 28]           8,320\n",
      "         res_block-7          [-1, 128, 28, 28]               0\n",
      "            Conv2d-8          [-1, 128, 28, 28]         147,584\n",
      "       BatchNorm2d-9          [-1, 128, 28, 28]             256\n",
      "             ReLU-10          [-1, 128, 28, 28]               0\n",
      "           Conv2d-11          [-1, 128, 28, 28]         147,584\n",
      "      BatchNorm2d-12          [-1, 128, 28, 28]             256\n",
      "        res_block-13          [-1, 128, 28, 28]               0\n",
      "================================================================\n",
      "Total params: 525,952\n",
      "Trainable params: 525,952\n",
      "Non-trainable params: 0\n",
      "----------------------------------------------------------------\n",
      "Input size (MB): 0.77\n",
      "Forward/backward pass size (MB): 9.95\n",
      "Params size (MB): 2.01\n",
      "Estimated Total Size (MB): 12.73\n",
      "----------------------------------------------------------------\n"
     ]
    }
   ],
   "source": [
    "temp = complete_block(in_channels=64, out_channels=128, num_blocks=2).to(device)\n",
    "summary(temp, (64, 56, 56))"
   ]
  },
  {
   "cell_type": "code",
   "execution_count": 67,
   "id": "0a679263",
   "metadata": {},
   "outputs": [
    {
     "name": "stdout",
     "output_type": "stream",
     "text": [
      "----------------------------------------------------------------\n",
      "        Layer (type)               Output Shape         Param #\n",
      "================================================================\n",
      "            Conv2d-1          [-1, 256, 14, 14]         295,168\n",
      "       BatchNorm2d-2          [-1, 256, 14, 14]             512\n",
      "              ReLU-3          [-1, 256, 14, 14]               0\n",
      "            Conv2d-4          [-1, 256, 14, 14]         590,080\n",
      "       BatchNorm2d-5          [-1, 256, 14, 14]             512\n",
      "            Conv2d-6          [-1, 256, 14, 14]          33,024\n",
      "         res_block-7          [-1, 256, 14, 14]               0\n",
      "            Conv2d-8          [-1, 256, 14, 14]         590,080\n",
      "       BatchNorm2d-9          [-1, 256, 14, 14]             512\n",
      "             ReLU-10          [-1, 256, 14, 14]               0\n",
      "           Conv2d-11          [-1, 256, 14, 14]         590,080\n",
      "      BatchNorm2d-12          [-1, 256, 14, 14]             512\n",
      "        res_block-13          [-1, 256, 14, 14]               0\n",
      "================================================================\n",
      "Total params: 2,100,480\n",
      "Trainable params: 2,100,480\n",
      "Non-trainable params: 0\n",
      "----------------------------------------------------------------\n",
      "Input size (MB): 0.38\n",
      "Forward/backward pass size (MB): 4.98\n",
      "Params size (MB): 8.01\n",
      "Estimated Total Size (MB): 13.37\n",
      "----------------------------------------------------------------\n"
     ]
    }
   ],
   "source": [
    "temp = complete_block(in_channels=128, out_channels=256, num_blocks=2).to(device)\n",
    "summary(temp, (128, 28, 28))"
   ]
  },
  {
   "cell_type": "code",
   "execution_count": 68,
   "id": "f70bbc02",
   "metadata": {},
   "outputs": [
    {
     "name": "stdout",
     "output_type": "stream",
     "text": [
      "----------------------------------------------------------------\n",
      "        Layer (type)               Output Shape         Param #\n",
      "================================================================\n",
      "            Conv2d-1            [-1, 512, 7, 7]       1,180,160\n",
      "       BatchNorm2d-2            [-1, 512, 7, 7]           1,024\n",
      "              ReLU-3            [-1, 512, 7, 7]               0\n",
      "            Conv2d-4            [-1, 512, 7, 7]       2,359,808\n",
      "       BatchNorm2d-5            [-1, 512, 7, 7]           1,024\n",
      "            Conv2d-6            [-1, 512, 7, 7]         131,584\n",
      "         res_block-7            [-1, 512, 7, 7]               0\n",
      "            Conv2d-8            [-1, 512, 7, 7]       2,359,808\n",
      "       BatchNorm2d-9            [-1, 512, 7, 7]           1,024\n",
      "             ReLU-10            [-1, 512, 7, 7]               0\n",
      "           Conv2d-11            [-1, 512, 7, 7]       2,359,808\n",
      "      BatchNorm2d-12            [-1, 512, 7, 7]           1,024\n",
      "        res_block-13            [-1, 512, 7, 7]               0\n",
      "================================================================\n",
      "Total params: 8,395,264\n",
      "Trainable params: 8,395,264\n",
      "Non-trainable params: 0\n",
      "----------------------------------------------------------------\n",
      "Input size (MB): 0.19\n",
      "Forward/backward pass size (MB): 2.49\n",
      "Params size (MB): 32.03\n",
      "Estimated Total Size (MB): 34.71\n",
      "----------------------------------------------------------------\n"
     ]
    }
   ],
   "source": [
    "temp = complete_block(in_channels=256, out_channels=512, num_blocks=2).to(device)\n",
    "summary(temp, (256, 14, 14))"
   ]
  },
  {
   "cell_type": "code",
   "execution_count": 72,
   "id": "0f9c8869",
   "metadata": {},
   "outputs": [],
   "source": [
    "class resnet(nn.Module):\n",
    "    def __init__(self, input_shape, num_classes):\n",
    "        super(resnet, self).__init__()\n",
    "        in_channels, height, width = input_shape\n",
    "        self.conv = nn.Sequential(\n",
    "            nn.Conv2d(in_channels=in_channels, out_channels=64, kernel_size=(7,7),\n",
    "                              stride=(2,2), padding=(3,3)),\n",
    "            nn.BatchNorm2d(64),\n",
    "            nn.ReLU(), \n",
    "            nn.MaxPool2d(kernel_size=(3,3), stride=(2,2), padding=(1,1)))\n",
    "        self.block1 = complete_block(in_channels=64, out_channels=64, num_blocks=2, first_block=True)\n",
    "        self.block2 = complete_block(in_channels=64, out_channels=128, num_blocks=2)\n",
    "        self.block3 = complete_block(in_channels=128, out_channels=256, num_blocks=2)\n",
    "        self.block4 = complete_block(in_channels=256, out_channels=512, num_blocks=2)\n",
    "        \n",
    "        height = height//(32) # due to strides and maxpool\n",
    "        width = width//(32)\n",
    "        self.fc = nn.Linear(in_features=512*height*width, out_features=10)\n",
    "        \n",
    "    \n",
    "    def forward(self, x):\n",
    "        x = self.conv(x)\n",
    "        x = self.block1(x)\n",
    "        x = self.block2(x)\n",
    "        x = self.block3(x)\n",
    "        x = self.block4(x)\n",
    "        x = nn.Flatten()(x)\n",
    "        x = self.fc(x)\n",
    "        return x"
   ]
  },
  {
   "cell_type": "code",
   "execution_count": 73,
   "id": "215a809a",
   "metadata": {},
   "outputs": [
    {
     "name": "stdout",
     "output_type": "stream",
     "text": [
      "----------------------------------------------------------------\n",
      "        Layer (type)               Output Shape         Param #\n",
      "================================================================\n",
      "            Conv2d-1         [-1, 64, 112, 112]           9,472\n",
      "       BatchNorm2d-2         [-1, 64, 112, 112]             128\n",
      "              ReLU-3         [-1, 64, 112, 112]               0\n",
      "         MaxPool2d-4           [-1, 64, 56, 56]               0\n",
      "            Conv2d-5           [-1, 64, 56, 56]          36,928\n",
      "       BatchNorm2d-6           [-1, 64, 56, 56]             128\n",
      "              ReLU-7           [-1, 64, 56, 56]               0\n",
      "            Conv2d-8           [-1, 64, 56, 56]          36,928\n",
      "       BatchNorm2d-9           [-1, 64, 56, 56]             128\n",
      "        res_block-10           [-1, 64, 56, 56]               0\n",
      "           Conv2d-11           [-1, 64, 56, 56]          36,928\n",
      "      BatchNorm2d-12           [-1, 64, 56, 56]             128\n",
      "             ReLU-13           [-1, 64, 56, 56]               0\n",
      "           Conv2d-14           [-1, 64, 56, 56]          36,928\n",
      "      BatchNorm2d-15           [-1, 64, 56, 56]             128\n",
      "        res_block-16           [-1, 64, 56, 56]               0\n",
      "   complete_block-17           [-1, 64, 56, 56]               0\n",
      "           Conv2d-18          [-1, 128, 28, 28]          73,856\n",
      "      BatchNorm2d-19          [-1, 128, 28, 28]             256\n",
      "             ReLU-20          [-1, 128, 28, 28]               0\n",
      "           Conv2d-21          [-1, 128, 28, 28]         147,584\n",
      "      BatchNorm2d-22          [-1, 128, 28, 28]             256\n",
      "           Conv2d-23          [-1, 128, 28, 28]           8,320\n",
      "        res_block-24          [-1, 128, 28, 28]               0\n",
      "           Conv2d-25          [-1, 128, 28, 28]         147,584\n",
      "      BatchNorm2d-26          [-1, 128, 28, 28]             256\n",
      "             ReLU-27          [-1, 128, 28, 28]               0\n",
      "           Conv2d-28          [-1, 128, 28, 28]         147,584\n",
      "      BatchNorm2d-29          [-1, 128, 28, 28]             256\n",
      "        res_block-30          [-1, 128, 28, 28]               0\n",
      "   complete_block-31          [-1, 128, 28, 28]               0\n",
      "           Conv2d-32          [-1, 256, 14, 14]         295,168\n",
      "      BatchNorm2d-33          [-1, 256, 14, 14]             512\n",
      "             ReLU-34          [-1, 256, 14, 14]               0\n",
      "           Conv2d-35          [-1, 256, 14, 14]         590,080\n",
      "      BatchNorm2d-36          [-1, 256, 14, 14]             512\n",
      "           Conv2d-37          [-1, 256, 14, 14]          33,024\n",
      "        res_block-38          [-1, 256, 14, 14]               0\n",
      "           Conv2d-39          [-1, 256, 14, 14]         590,080\n",
      "      BatchNorm2d-40          [-1, 256, 14, 14]             512\n",
      "             ReLU-41          [-1, 256, 14, 14]               0\n",
      "           Conv2d-42          [-1, 256, 14, 14]         590,080\n",
      "      BatchNorm2d-43          [-1, 256, 14, 14]             512\n",
      "        res_block-44          [-1, 256, 14, 14]               0\n",
      "   complete_block-45          [-1, 256, 14, 14]               0\n",
      "           Conv2d-46            [-1, 512, 7, 7]       1,180,160\n",
      "      BatchNorm2d-47            [-1, 512, 7, 7]           1,024\n",
      "             ReLU-48            [-1, 512, 7, 7]               0\n",
      "           Conv2d-49            [-1, 512, 7, 7]       2,359,808\n",
      "      BatchNorm2d-50            [-1, 512, 7, 7]           1,024\n",
      "           Conv2d-51            [-1, 512, 7, 7]         131,584\n",
      "        res_block-52            [-1, 512, 7, 7]               0\n",
      "           Conv2d-53            [-1, 512, 7, 7]       2,359,808\n",
      "      BatchNorm2d-54            [-1, 512, 7, 7]           1,024\n",
      "             ReLU-55            [-1, 512, 7, 7]               0\n",
      "           Conv2d-56            [-1, 512, 7, 7]       2,359,808\n",
      "      BatchNorm2d-57            [-1, 512, 7, 7]           1,024\n",
      "        res_block-58            [-1, 512, 7, 7]               0\n",
      "   complete_block-59            [-1, 512, 7, 7]               0\n",
      "           Linear-60                   [-1, 10]         250,890\n",
      "================================================================\n",
      "Total params: 11,430,410\n",
      "Trainable params: 11,430,410\n",
      "Non-trainable params: 0\n",
      "----------------------------------------------------------------\n",
      "Input size (MB): 0.57\n",
      "Forward/backward pass size (MB): 58.57\n",
      "Params size (MB): 43.60\n",
      "Estimated Total Size (MB): 102.75\n",
      "----------------------------------------------------------------\n"
     ]
    }
   ],
   "source": [
    "input_shape = (3, 224, 224)\n",
    "num_classes = 10\n",
    "model = resnet(input_shape, num_classes).to(device)\n",
    "summary(model, input_shape)"
   ]
  },
  {
   "cell_type": "code",
   "execution_count": null,
   "id": "14c8444c",
   "metadata": {},
   "outputs": [],
   "source": []
  },
  {
   "cell_type": "code",
   "execution_count": null,
   "id": "ec82038d",
   "metadata": {},
   "outputs": [],
   "source": []
  },
  {
   "cell_type": "code",
   "execution_count": null,
   "id": "0bf4d251",
   "metadata": {},
   "outputs": [],
   "source": []
  }
 ],
 "metadata": {
  "kernelspec": {
   "display_name": "pytorch",
   "language": "python",
   "name": "pytorch"
  },
  "language_info": {
   "codemirror_mode": {
    "name": "ipython",
    "version": 3
   },
   "file_extension": ".py",
   "mimetype": "text/x-python",
   "name": "python",
   "nbconvert_exporter": "python",
   "pygments_lexer": "ipython3",
   "version": "3.9.15"
  }
 },
 "nbformat": 4,
 "nbformat_minor": 5
}
